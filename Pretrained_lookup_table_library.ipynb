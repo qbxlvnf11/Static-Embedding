{
 "cells": [
  {
   "cell_type": "markdown",
   "metadata": {},
   "source": [
    "# Pretrained static embedding model (library - gensim, gluonnlp)"
   ]
  },
  {
   "cell_type": "markdown",
   "metadata": {},
   "source": [
    "# - Bad-words dataset processing"
   ]
  },
  {
   "cell_type": "code",
   "execution_count": 1,
   "metadata": {},
   "outputs": [],
   "source": [
    "with open('./data/bad-words.csv') as file:\n",
    "    bad_words = file.read().splitlines()"
   ]
  },
  {
   "cell_type": "code",
   "execution_count": 2,
   "metadata": {},
   "outputs": [
    {
     "data": {
      "text/plain": [
       "['jigaboo',\n",
       " 'mound of venus',\n",
       " 'asslover',\n",
       " 's&m',\n",
       " 'queaf',\n",
       " 'whitetrash',\n",
       " 'meatrack',\n",
       " 'ra8s',\n",
       " 'pimp',\n",
       " 'urine',\n",
       " 'whit',\n",
       " 'randy',\n",
       " 'herpes',\n",
       " 'niglet',\n",
       " 'narcotic',\n",
       " 'pudboy',\n",
       " 'rimming',\n",
       " 'boner',\n",
       " 'pornography',\n",
       " 'poop chute',\n",
       " 'israel',\n",
       " 'dong',\n",
       " 'slanteye',\n",
       " 'muffdiving',\n",
       " 'jiggabo',\n",
       " 'assassination',\n",
       " 'peepshpw',\n",
       " 'popimp',\n",
       " 'girl on',\n",
       " 'testicles']"
      ]
     },
     "execution_count": 2,
     "metadata": {},
     "output_type": "execute_result"
    }
   ],
   "source": [
    "bad_words[:30]"
   ]
  },
  {
   "cell_type": "code",
   "execution_count": 3,
   "metadata": {},
   "outputs": [
    {
     "data": {
      "text/plain": [
       "1617"
      ]
     },
     "execution_count": 3,
     "metadata": {},
     "output_type": "execute_result"
    }
   ],
   "source": [
    "len(bad_words)"
   ]
  },
  {
   "cell_type": "markdown",
   "metadata": {},
   "source": [
    "- Get word index"
   ]
  },
  {
   "cell_type": "code",
   "execution_count": 4,
   "metadata": {},
   "outputs": [
    {
     "name": "stderr",
     "output_type": "stream",
     "text": [
      "Using TensorFlow backend.\n"
     ]
    }
   ],
   "source": [
    "from keras.preprocessing.text import Tokenizer\n",
    "\n",
    "tokenizer = Tokenizer(char_level=False, filters='!\"#$%&()*+./:;<=>?@[\\]^_`{|}~', lower=True)"
   ]
  },
  {
   "cell_type": "code",
   "execution_count": 5,
   "metadata": {},
   "outputs": [],
   "source": [
    "tokenizer.fit_on_texts(bad_words)"
   ]
  },
  {
   "cell_type": "code",
   "execution_count": 6,
   "metadata": {},
   "outputs": [],
   "source": [
    "word_index = tokenizer.word_index"
   ]
  },
  {
   "cell_type": "code",
   "execution_count": 7,
   "metadata": {},
   "outputs": [
    {
     "data": {
      "text/plain": [
       "1671"
      ]
     },
     "execution_count": 7,
     "metadata": {},
     "output_type": "execute_result"
    }
   ],
   "source": [
    "len(word_index)"
   ]
  },
  {
   "cell_type": "markdown",
   "metadata": {},
   "source": [
    "# - Gensim pretrained embedding model"
   ]
  },
  {
   "cell_type": "markdown",
   "metadata": {},
   "source": [
    "- API information"
   ]
  },
  {
   "cell_type": "code",
   "execution_count": 8,
   "metadata": {
    "scrolled": true
   },
   "outputs": [
    {
     "name": "stdout",
     "output_type": "stream",
     "text": [
      "{'corpora': {'semeval-2016-2017-task3-subtaskBC': {'num_records': -1, 'record_format': 'dict', 'file_size': 6344358, 'reader_code': 'https://github.com/RaRe-Technologies/gensim-data/releases/download/semeval-2016-2017-task3-subtaskB-eng/__init__.py', 'license': 'All files released for the task are free for general research use', 'fields': {'2016-train': ['...'], '2016-dev': ['...'], '2017-test': ['...'], '2016-test': ['...']}, 'description': 'SemEval 2016 / 2017 Task 3 Subtask B and C datasets contain train+development (317 original questions, 3,169 related questions, and 31,690 comments), and test datasets in English. The description of the tasks and the collected data is given in sections 3 and 4.1 of the task paper http://alt.qcri.org/semeval2016/task3/data/uploads/semeval2016-task3-report.pdf linked in section “Papers” of https://github.com/RaRe-Technologies/gensim-data/issues/18.', 'checksum': '701ea67acd82e75f95e1d8e62fb0ad29', 'file_name': 'semeval-2016-2017-task3-subtaskBC.gz', 'read_more': ['http://alt.qcri.org/semeval2017/task3/', 'http://alt.qcri.org/semeval2017/task3/data/uploads/semeval2017-task3.pdf', 'https://github.com/RaRe-Technologies/gensim-data/issues/18', 'https://github.com/Witiko/semeval-2016_2017-task3-subtaskB-english'], 'parts': 1}, 'semeval-2016-2017-task3-subtaskA-unannotated': {'num_records': 189941, 'record_format': 'dict', 'file_size': 234373151, 'reader_code': 'https://github.com/RaRe-Technologies/gensim-data/releases/download/semeval-2016-2017-task3-subtaskA-unannotated-eng/__init__.py', 'license': 'These datasets are free for general research use.', 'fields': {'THREAD_SEQUENCE': '', 'RelQuestion': {'RELQ_CATEGORY': 'question category, according to the Qatar Living taxonomy', 'RELQ_DATE': 'date of posting', 'RELQ_ID': 'question indentifier', 'RELQ_USERID': 'identifier of the user asking the question', 'RELQ_USERNAME': 'name of the user asking the question', 'RelQBody': 'body of question', 'RelQSubject': 'subject of question'}, 'RelComments': [{'RelCText': 'text of answer', 'RELC_USERID': 'identifier of the user posting the comment', 'RELC_ID': 'comment identifier', 'RELC_USERNAME': 'name of the user posting the comment', 'RELC_DATE': 'date of posting'}]}, 'description': 'SemEval 2016 / 2017 Task 3 Subtask A unannotated dataset contains 189,941 questions and 1,894,456 comments in English collected from the Community Question Answering (CQA) web forum of Qatar Living. These can be used as a corpus for language modelling.', 'checksum': '2de0e2f2c4f91c66ae4fcf58d50ba816', 'file_name': 'semeval-2016-2017-task3-subtaskA-unannotated.gz', 'read_more': ['http://alt.qcri.org/semeval2016/task3/', 'http://alt.qcri.org/semeval2016/task3/data/uploads/semeval2016-task3-report.pdf', 'https://github.com/RaRe-Technologies/gensim-data/issues/18', 'https://github.com/Witiko/semeval-2016_2017-task3-subtaskA-unannotated-english'], 'parts': 1}, 'patent-2017': {'num_records': 353197, 'record_format': 'dict', 'file_size': 3087262469, 'reader_code': 'https://github.com/RaRe-Technologies/gensim-data/releases/download/patent-2017/__init__.py', 'license': 'not found', 'description': \"Patent Grant Full Text. Contains the full text including tables, sequence data and 'in-line' mathematical expressions of each patent grant issued in 2017.\", 'checksum-0': '818501f0b9af62d3b88294d86d509f8f', 'checksum-1': '66c05635c1d3c7a19b4a335829d09ffa', 'file_name': 'patent-2017.gz', 'read_more': ['http://patents.reedtech.com/pgrbft.php'], 'parts': 2}, 'quora-duplicate-questions': {'num_records': 404290, 'record_format': 'dict', 'file_size': 21684784, 'reader_code': 'https://github.com/RaRe-Technologies/gensim-data/releases/download/quora-duplicate-questions/__init__.py', 'license': 'probably https://www.quora.com/about/tos', 'fields': {'question1': 'the full text of each question', 'question2': 'the full text of each question', 'qid1': 'unique ids of each question', 'qid2': 'unique ids of each question', 'id': 'the id of a training set question pair', 'is_duplicate': 'the target variable, set to 1 if question1 and question2 have essentially the same meaning, and 0 otherwise'}, 'description': 'Over 400,000 lines of potential question duplicate pairs. Each line contains IDs for each question in the pair, the full text for each question, and a binary value that indicates whether the line contains a duplicate pair or not.', 'checksum': 'd7cfa7fbc6e2ec71ab74c495586c6365', 'file_name': 'quora-duplicate-questions.gz', 'read_more': ['https://data.quora.com/First-Quora-Dataset-Release-Question-Pairs'], 'parts': 1}, 'wiki-english-20171001': {'num_records': 4924894, 'record_format': 'dict', 'file_size': 6516051717, 'reader_code': 'https://github.com/RaRe-Technologies/gensim-data/releases/download/wiki-english-20171001/__init__.py', 'license': 'https://dumps.wikimedia.org/legal.html', 'fields': {'section_texts': 'list of body of sections', 'section_titles': 'list of titles of sections', 'title': 'Title of wiki article'}, 'description': 'Extracted Wikipedia dump from October 2017. Produced by `python -m gensim.scripts.segment_wiki -f enwiki-20171001-pages-articles.xml.bz2 -o wiki-en.gz`', 'checksum-0': 'a7d7d7fd41ea7e2d7fa32ec1bb640d71', 'checksum-1': 'b2683e3356ffbca3b6c2dca6e9801f9f', 'checksum-2': 'c5cde2a9ae77b3c4ebce804f6df542c2', 'checksum-3': '00b71144ed5e3aeeb885de84f7452b81', 'file_name': 'wiki-english-20171001.gz', 'read_more': ['https://dumps.wikimedia.org/enwiki/20171001/'], 'parts': 4}, 'text8': {'num_records': 1701, 'record_format': 'list of str (tokens)', 'file_size': 33182058, 'reader_code': 'https://github.com/RaRe-Technologies/gensim-data/releases/download/text8/__init__.py', 'license': 'not found', 'description': 'First 100,000,000 bytes of plain text from Wikipedia. Used for testing purposes; see wiki-english-* for proper full Wikipedia datasets.', 'checksum': '68799af40b6bda07dfa47a32612e5364', 'file_name': 'text8.gz', 'read_more': ['http://mattmahoney.net/dc/textdata.html'], 'parts': 1}, 'fake-news': {'num_records': 12999, 'record_format': 'dict', 'file_size': 20102776, 'reader_code': 'https://github.com/RaRe-Technologies/gensim-data/releases/download/fake-news/__init__.py', 'license': 'https://creativecommons.org/publicdomain/zero/1.0/', 'fields': {'crawled': 'date the story was archived', 'ord_in_thread': '', 'published': 'date published', 'participants_count': 'number of participants', 'shares': 'number of Facebook shares', 'replies_count': 'number of replies', 'main_img_url': 'image from story', 'spam_score': 'data from webhose.io', 'uuid': 'unique identifier', 'language': 'data from webhose.io', 'title': 'title of story', 'country': 'data from webhose.io', 'domain_rank': 'data from webhose.io', 'author': 'author of story', 'comments': 'number of Facebook comments', 'site_url': 'site URL from BS detector', 'text': 'text of story', 'thread_title': '', 'type': 'type of website (label from BS detector)', 'likes': 'number of Facebook likes'}, 'description': \"News dataset, contains text and metadata from 244 websites and represents 12,999 posts in total from a specific window of 30 days. The data was pulled using the webhose.io API, and because it's coming from their crawler, not all websites identified by their BS Detector are present in this dataset. Data sources that were missing a label were simply assigned a label of 'bs'. There are (ostensibly) no genuine, reliable, or trustworthy news sources represented in this dataset (so far), so don't trust anything you read.\", 'checksum': '5e64e942df13219465927f92dcefd5fe', 'file_name': 'fake-news.gz', 'read_more': ['https://www.kaggle.com/mrisdal/fake-news'], 'parts': 1}, '20-newsgroups': {'num_records': 18846, 'record_format': 'dict', 'file_size': 14483581, 'reader_code': 'https://github.com/RaRe-Technologies/gensim-data/releases/download/20-newsgroups/__init__.py', 'license': 'not found', 'fields': {'topic': 'name of topic (20 variant of possible values)', 'set': \"marker of original split (possible values 'train' and 'test')\", 'data': '', 'id': 'original id inferred from folder name'}, 'description': 'The notorious collection of approximately 20,000 newsgroup posts, partitioned (nearly) evenly across 20 different newsgroups.', 'checksum': 'c92fd4f6640a86d5ba89eaad818a9891', 'file_name': '20-newsgroups.gz', 'read_more': ['http://qwone.com/~jason/20Newsgroups/'], 'parts': 1}, '__testing_matrix-synopsis': {'description': '[THIS IS ONLY FOR TESTING] Synopsis of the movie matrix.', 'checksum': '1767ac93a089b43899d54944b07d9dc5', 'file_name': '__testing_matrix-synopsis.gz', 'read_more': ['http://www.imdb.com/title/tt0133093/plotsummary?ref_=ttpl_pl_syn#synopsis'], 'parts': 1}, '__testing_multipart-matrix-synopsis': {'description': '[THIS IS ONLY FOR TESTING] Synopsis of the movie matrix.', 'checksum-0': 'c8b0c7d8cf562b1b632c262a173ac338', 'checksum-1': '5ff7fc6818e9a5d9bc1cf12c35ed8b96', 'checksum-2': '966db9d274d125beaac7987202076cba', 'file_name': '__testing_multipart-matrix-synopsis.gz', 'read_more': ['http://www.imdb.com/title/tt0133093/plotsummary?ref_=ttpl_pl_syn#synopsis'], 'parts': 3}}, 'models': {'fasttext-wiki-news-subwords-300': {'num_records': 999999, 'file_size': 1005007116, 'base_dataset': 'Wikipedia 2017, UMBC webbase corpus and statmt.org news dataset (16B tokens)', 'reader_code': 'https://github.com/RaRe-Technologies/gensim-data/releases/download/fasttext-wiki-news-subwords-300/__init__.py', 'license': 'https://creativecommons.org/licenses/by-sa/3.0/', 'parameters': {'dimension': 300}, 'description': '1 million word vectors trained on Wikipedia 2017, UMBC webbase corpus and statmt.org news dataset (16B tokens).', 'read_more': ['https://fasttext.cc/docs/en/english-vectors.html', 'https://arxiv.org/abs/1712.09405', 'https://arxiv.org/abs/1607.01759'], 'checksum': 'de2bb3a20c46ce65c9c131e1ad9a77af', 'file_name': 'fasttext-wiki-news-subwords-300.gz', 'parts': 1}, 'conceptnet-numberbatch-17-06-300': {'num_records': 1917247, 'file_size': 1225497562, 'base_dataset': 'ConceptNet, word2vec, GloVe, and OpenSubtitles 2016', 'reader_code': 'https://github.com/RaRe-Technologies/gensim-data/releases/download/conceptnet-numberbatch-17-06-300/__init__.py', 'license': 'https://github.com/commonsense/conceptnet-numberbatch/blob/master/LICENSE.txt', 'parameters': {'dimension': 300}, 'description': 'ConceptNet Numberbatch consists of state-of-the-art semantic vectors (also known as word embeddings) that can be used directly as a representation of word meanings or as a starting point for further machine learning. ConceptNet Numberbatch is part of the ConceptNet open data project. ConceptNet provides lots of ways to compute with word meanings, one of which is word embeddings. ConceptNet Numberbatch is a snapshot of just the word embeddings. It is built using an ensemble that combines data from ConceptNet, word2vec, GloVe, and OpenSubtitles 2016, using a variation on retrofitting.', 'read_more': ['http://aaai.org/ocs/index.php/AAAI/AAAI17/paper/view/14972', 'https://github.com/commonsense/conceptnet-numberbatch', 'http://conceptnet.io/'], 'checksum': 'fd642d457adcd0ea94da0cd21b150847', 'file_name': 'conceptnet-numberbatch-17-06-300.gz', 'parts': 1}, 'word2vec-ruscorpora-300': {'num_records': 184973, 'file_size': 208427381, 'base_dataset': 'Russian National Corpus (about 250M words)', 'reader_code': 'https://github.com/RaRe-Technologies/gensim-data/releases/download/word2vec-ruscorpora-300/__init__.py', 'license': 'https://creativecommons.org/licenses/by/4.0/deed.en', 'parameters': {'dimension': 300, 'window_size': 10}, 'description': 'Word2vec Continuous Skipgram vectors trained on full Russian National Corpus (about 250M words). The model contains 185K words.', 'preprocessing': 'The corpus was lemmatized and tagged with Universal PoS', 'read_more': ['https://www.academia.edu/24306935/WebVectors_a_Toolkit_for_Building_Web_Interfaces_for_Vector_Semantic_Models', 'http://rusvectores.org/en/', 'https://github.com/RaRe-Technologies/gensim-data/issues/3'], 'checksum': '9bdebdc8ae6d17d20839dd9b5af10bc4', 'file_name': 'word2vec-ruscorpora-300.gz', 'parts': 1}, 'word2vec-google-news-300': {'num_records': 3000000, 'file_size': 1743563840, 'base_dataset': 'Google News (about 100 billion words)', 'reader_code': 'https://github.com/RaRe-Technologies/gensim-data/releases/download/word2vec-google-news-300/__init__.py', 'license': 'not found', 'parameters': {'dimension': 300}, 'description': \"Pre-trained vectors trained on a part of the Google News dataset (about 100 billion words). The model contains 300-dimensional vectors for 3 million words and phrases. The phrases were obtained using a simple data-driven approach described in 'Distributed Representations of Words and Phrases and their Compositionality' (https://code.google.com/archive/p/word2vec/).\", 'read_more': ['https://code.google.com/archive/p/word2vec/', 'https://arxiv.org/abs/1301.3781', 'https://arxiv.org/abs/1310.4546', 'https://www.microsoft.com/en-us/research/publication/linguistic-regularities-in-continuous-space-word-representations/?from=http%3A%2F%2Fresearch.microsoft.com%2Fpubs%2F189726%2Frvecs.pdf'], 'checksum': 'a5e5354d40acb95f9ec66d5977d140ef', 'file_name': 'word2vec-google-news-300.gz', 'parts': 1}, 'glove-wiki-gigaword-50': {'num_records': 400000, 'file_size': 69182535, 'base_dataset': 'Wikipedia 2014 + Gigaword 5 (6B tokens, uncased)', 'reader_code': 'https://github.com/RaRe-Technologies/gensim-data/releases/download/glove-wiki-gigaword-50/__init__.py', 'license': 'http://opendatacommons.org/licenses/pddl/', 'parameters': {'dimension': 50}, 'description': 'Pre-trained vectors based on Wikipedia 2014 + Gigaword, 5.6B tokens, 400K vocab, uncased (https://nlp.stanford.edu/projects/glove/).', 'preprocessing': 'Converted to w2v format with `python -m gensim.scripts.glove2word2vec -i <fname> -o glove-wiki-gigaword-50.txt`.', 'read_more': ['https://nlp.stanford.edu/projects/glove/', 'https://nlp.stanford.edu/pubs/glove.pdf'], 'checksum': 'c289bc5d7f2f02c6dc9f2f9b67641813', 'file_name': 'glove-wiki-gigaword-50.gz', 'parts': 1}, 'glove-wiki-gigaword-100': {'num_records': 400000, 'file_size': 134300434, 'base_dataset': 'Wikipedia 2014 + Gigaword 5 (6B tokens, uncased)', 'reader_code': 'https://github.com/RaRe-Technologies/gensim-data/releases/download/glove-wiki-gigaword-100/__init__.py', 'license': 'http://opendatacommons.org/licenses/pddl/', 'parameters': {'dimension': 100}, 'description': 'Pre-trained vectors based on Wikipedia 2014 + Gigaword 5.6B tokens, 400K vocab, uncased (https://nlp.stanford.edu/projects/glove/).', 'preprocessing': 'Converted to w2v format with `python -m gensim.scripts.glove2word2vec -i <fname> -o glove-wiki-gigaword-100.txt`.', 'read_more': ['https://nlp.stanford.edu/projects/glove/', 'https://nlp.stanford.edu/pubs/glove.pdf'], 'checksum': '40ec481866001177b8cd4cb0df92924f', 'file_name': 'glove-wiki-gigaword-100.gz', 'parts': 1}, 'glove-wiki-gigaword-200': {'num_records': 400000, 'file_size': 264336934, 'base_dataset': 'Wikipedia 2014 + Gigaword 5 (6B tokens, uncased)', 'reader_code': 'https://github.com/RaRe-Technologies/gensim-data/releases/download/glove-wiki-gigaword-200/__init__.py', 'license': 'http://opendatacommons.org/licenses/pddl/', 'parameters': {'dimension': 200}, 'description': 'Pre-trained vectors based on Wikipedia 2014 + Gigaword, 5.6B tokens, 400K vocab, uncased (https://nlp.stanford.edu/projects/glove/).', 'preprocessing': 'Converted to w2v format with `python -m gensim.scripts.glove2word2vec -i <fname> -o glove-wiki-gigaword-200.txt`.', 'read_more': ['https://nlp.stanford.edu/projects/glove/', 'https://nlp.stanford.edu/pubs/glove.pdf'], 'checksum': '59652db361b7a87ee73834a6c391dfc1', 'file_name': 'glove-wiki-gigaword-200.gz', 'parts': 1}, 'glove-wiki-gigaword-300': {'num_records': 400000, 'file_size': 394362229, 'base_dataset': 'Wikipedia 2014 + Gigaword 5 (6B tokens, uncased)', 'reader_code': 'https://github.com/RaRe-Technologies/gensim-data/releases/download/glove-wiki-gigaword-300/__init__.py', 'license': 'http://opendatacommons.org/licenses/pddl/', 'parameters': {'dimension': 300}, 'description': 'Pre-trained vectors based on Wikipedia 2014 + Gigaword, 5.6B tokens, 400K vocab, uncased (https://nlp.stanford.edu/projects/glove/).', 'preprocessing': 'Converted to w2v format with `python -m gensim.scripts.glove2word2vec -i <fname> -o glove-wiki-gigaword-300.txt`.', 'read_more': ['https://nlp.stanford.edu/projects/glove/', 'https://nlp.stanford.edu/pubs/glove.pdf'], 'checksum': '29e9329ac2241937d55b852e8284e89b', 'file_name': 'glove-wiki-gigaword-300.gz', 'parts': 1}, 'glove-twitter-25': {'num_records': 1193514, 'file_size': 109885004, 'base_dataset': 'Twitter (2B tweets, 27B tokens, 1.2M vocab, uncased)', 'reader_code': 'https://github.com/RaRe-Technologies/gensim-data/releases/download/glove-twitter-25/__init__.py', 'license': 'http://opendatacommons.org/licenses/pddl/', 'parameters': {'dimension': 25}, 'description': 'Pre-trained vectors based on 2B tweets, 27B tokens, 1.2M vocab, uncased (https://nlp.stanford.edu/projects/glove/).', 'preprocessing': 'Converted to w2v format with `python -m gensim.scripts.glove2word2vec -i <fname> -o glove-twitter-25.txt`.', 'read_more': ['https://nlp.stanford.edu/projects/glove/', 'https://nlp.stanford.edu/pubs/glove.pdf'], 'checksum': '50db0211d7e7a2dcd362c6b774762793', 'file_name': 'glove-twitter-25.gz', 'parts': 1}, 'glove-twitter-50': {'num_records': 1193514, 'file_size': 209216938, 'base_dataset': 'Twitter (2B tweets, 27B tokens, 1.2M vocab, uncased)', 'reader_code': 'https://github.com/RaRe-Technologies/gensim-data/releases/download/glove-twitter-50/__init__.py', 'license': 'http://opendatacommons.org/licenses/pddl/', 'parameters': {'dimension': 50}, 'description': 'Pre-trained vectors based on 2B tweets, 27B tokens, 1.2M vocab, uncased (https://nlp.stanford.edu/projects/glove/)', 'preprocessing': 'Converted to w2v format with `python -m gensim.scripts.glove2word2vec -i <fname> -o glove-twitter-50.txt`.', 'read_more': ['https://nlp.stanford.edu/projects/glove/', 'https://nlp.stanford.edu/pubs/glove.pdf'], 'checksum': 'c168f18641f8c8a00fe30984c4799b2b', 'file_name': 'glove-twitter-50.gz', 'parts': 1}, 'glove-twitter-100': {'num_records': 1193514, 'file_size': 405932991, 'base_dataset': 'Twitter (2B tweets, 27B tokens, 1.2M vocab, uncased)', 'reader_code': 'https://github.com/RaRe-Technologies/gensim-data/releases/download/glove-twitter-100/__init__.py', 'license': 'http://opendatacommons.org/licenses/pddl/', 'parameters': {'dimension': 100}, 'description': 'Pre-trained vectors based on  2B tweets, 27B tokens, 1.2M vocab, uncased (https://nlp.stanford.edu/projects/glove/)', 'preprocessing': 'Converted to w2v format with `python -m gensim.scripts.glove2word2vec -i <fname> -o glove-twitter-100.txt`.', 'read_more': ['https://nlp.stanford.edu/projects/glove/', 'https://nlp.stanford.edu/pubs/glove.pdf'], 'checksum': 'b04f7bed38756d64cf55b58ce7e97b15', 'file_name': 'glove-twitter-100.gz', 'parts': 1}, 'glove-twitter-200': {'num_records': 1193514, 'file_size': 795373100, 'base_dataset': 'Twitter (2B tweets, 27B tokens, 1.2M vocab, uncased)', 'reader_code': 'https://github.com/RaRe-Technologies/gensim-data/releases/download/glove-twitter-200/__init__.py', 'license': 'http://opendatacommons.org/licenses/pddl/', 'parameters': {'dimension': 200}, 'description': 'Pre-trained vectors based on 2B tweets, 27B tokens, 1.2M vocab, uncased (https://nlp.stanford.edu/projects/glove/).', 'preprocessing': 'Converted to w2v format with `python -m gensim.scripts.glove2word2vec -i <fname> -o glove-twitter-200.txt`.', 'read_more': ['https://nlp.stanford.edu/projects/glove/', 'https://nlp.stanford.edu/pubs/glove.pdf'], 'checksum': 'e52e8392d1860b95d5308a525817d8f9', 'file_name': 'glove-twitter-200.gz', 'parts': 1}, '__testing_word2vec-matrix-synopsis': {'description': '[THIS IS ONLY FOR TESTING] Word vecrors of the movie matrix.', 'parameters': {'dimensions': 50}, 'preprocessing': 'Converted to w2v using a preprocessed corpus. Converted to w2v format with `python3.5 -m gensim.models.word2vec -train <input_filename> -iter 50 -output <output_filename>`.', 'read_more': [], 'checksum': '534dcb8b56a360977a269b7bfc62d124', 'file_name': '__testing_word2vec-matrix-synopsis.gz', 'parts': 1}}}\n"
     ]
    }
   ],
   "source": [
    "import gensim.downloader as api\n",
    "\n",
    "info = api.info()\n",
    "\n",
    "print(info)"
   ]
  },
  {
   "cell_type": "code",
   "execution_count": 9,
   "metadata": {
    "scrolled": true
   },
   "outputs": [
    {
     "name": "stdout",
     "output_type": "stream",
     "text": [
      "fasttext-wiki-news-subwords-300\n",
      "\n",
      "{'num_records': 999999, 'file_size': 1005007116, 'base_dataset': 'Wikipedia 2017, UMBC webbase corpus and statmt.org news dataset (16B tokens)', 'reader_code': 'https://github.com/RaRe-Technologies/gensim-data/releases/download/fasttext-wiki-news-subwords-300/__init__.py', 'license': 'https://creativecommons.org/licenses/by-sa/3.0/', 'parameters': {'dimension': 300}, 'description': '1 million word vectors trained on Wikipedia 2017, UMBC webbase corpus and statmt.org news dataset (16B tokens).', 'read_more': ['https://fasttext.cc/docs/en/english-vectors.html', 'https://arxiv.org/abs/1712.09405', 'https://arxiv.org/abs/1607.01759'], 'checksum': 'de2bb3a20c46ce65c9c131e1ad9a77af', 'file_name': 'fasttext-wiki-news-subwords-300.gz', 'parts': 1}\n",
      "\n",
      "----------------------------------------------------------------------------------------------------\n",
      "\n",
      "conceptnet-numberbatch-17-06-300\n",
      "\n",
      "{'num_records': 1917247, 'file_size': 1225497562, 'base_dataset': 'ConceptNet, word2vec, GloVe, and OpenSubtitles 2016', 'reader_code': 'https://github.com/RaRe-Technologies/gensim-data/releases/download/conceptnet-numberbatch-17-06-300/__init__.py', 'license': 'https://github.com/commonsense/conceptnet-numberbatch/blob/master/LICENSE.txt', 'parameters': {'dimension': 300}, 'description': 'ConceptNet Numberbatch consists of state-of-the-art semantic vectors (also known as word embeddings) that can be used directly as a representation of word meanings or as a starting point for further machine learning. ConceptNet Numberbatch is part of the ConceptNet open data project. ConceptNet provides lots of ways to compute with word meanings, one of which is word embeddings. ConceptNet Numberbatch is a snapshot of just the word embeddings. It is built using an ensemble that combines data from ConceptNet, word2vec, GloVe, and OpenSubtitles 2016, using a variation on retrofitting.', 'read_more': ['http://aaai.org/ocs/index.php/AAAI/AAAI17/paper/view/14972', 'https://github.com/commonsense/conceptnet-numberbatch', 'http://conceptnet.io/'], 'checksum': 'fd642d457adcd0ea94da0cd21b150847', 'file_name': 'conceptnet-numberbatch-17-06-300.gz', 'parts': 1}\n",
      "\n",
      "----------------------------------------------------------------------------------------------------\n",
      "\n",
      "word2vec-ruscorpora-300\n",
      "\n",
      "{'num_records': 184973, 'file_size': 208427381, 'base_dataset': 'Russian National Corpus (about 250M words)', 'reader_code': 'https://github.com/RaRe-Technologies/gensim-data/releases/download/word2vec-ruscorpora-300/__init__.py', 'license': 'https://creativecommons.org/licenses/by/4.0/deed.en', 'parameters': {'dimension': 300, 'window_size': 10}, 'description': 'Word2vec Continuous Skipgram vectors trained on full Russian National Corpus (about 250M words). The model contains 185K words.', 'preprocessing': 'The corpus was lemmatized and tagged with Universal PoS', 'read_more': ['https://www.academia.edu/24306935/WebVectors_a_Toolkit_for_Building_Web_Interfaces_for_Vector_Semantic_Models', 'http://rusvectores.org/en/', 'https://github.com/RaRe-Technologies/gensim-data/issues/3'], 'checksum': '9bdebdc8ae6d17d20839dd9b5af10bc4', 'file_name': 'word2vec-ruscorpora-300.gz', 'parts': 1}\n",
      "\n",
      "----------------------------------------------------------------------------------------------------\n",
      "\n",
      "word2vec-google-news-300\n",
      "\n",
      "{'num_records': 3000000, 'file_size': 1743563840, 'base_dataset': 'Google News (about 100 billion words)', 'reader_code': 'https://github.com/RaRe-Technologies/gensim-data/releases/download/word2vec-google-news-300/__init__.py', 'license': 'not found', 'parameters': {'dimension': 300}, 'description': \"Pre-trained vectors trained on a part of the Google News dataset (about 100 billion words). The model contains 300-dimensional vectors for 3 million words and phrases. The phrases were obtained using a simple data-driven approach described in 'Distributed Representations of Words and Phrases and their Compositionality' (https://code.google.com/archive/p/word2vec/).\", 'read_more': ['https://code.google.com/archive/p/word2vec/', 'https://arxiv.org/abs/1301.3781', 'https://arxiv.org/abs/1310.4546', 'https://www.microsoft.com/en-us/research/publication/linguistic-regularities-in-continuous-space-word-representations/?from=http%3A%2F%2Fresearch.microsoft.com%2Fpubs%2F189726%2Frvecs.pdf'], 'checksum': 'a5e5354d40acb95f9ec66d5977d140ef', 'file_name': 'word2vec-google-news-300.gz', 'parts': 1}\n",
      "\n",
      "----------------------------------------------------------------------------------------------------\n",
      "\n",
      "glove-wiki-gigaword-50\n",
      "\n",
      "{'num_records': 400000, 'file_size': 69182535, 'base_dataset': 'Wikipedia 2014 + Gigaword 5 (6B tokens, uncased)', 'reader_code': 'https://github.com/RaRe-Technologies/gensim-data/releases/download/glove-wiki-gigaword-50/__init__.py', 'license': 'http://opendatacommons.org/licenses/pddl/', 'parameters': {'dimension': 50}, 'description': 'Pre-trained vectors based on Wikipedia 2014 + Gigaword, 5.6B tokens, 400K vocab, uncased (https://nlp.stanford.edu/projects/glove/).', 'preprocessing': 'Converted to w2v format with `python -m gensim.scripts.glove2word2vec -i <fname> -o glove-wiki-gigaword-50.txt`.', 'read_more': ['https://nlp.stanford.edu/projects/glove/', 'https://nlp.stanford.edu/pubs/glove.pdf'], 'checksum': 'c289bc5d7f2f02c6dc9f2f9b67641813', 'file_name': 'glove-wiki-gigaword-50.gz', 'parts': 1}\n",
      "\n",
      "----------------------------------------------------------------------------------------------------\n",
      "\n",
      "glove-wiki-gigaword-100\n",
      "\n",
      "{'num_records': 400000, 'file_size': 134300434, 'base_dataset': 'Wikipedia 2014 + Gigaword 5 (6B tokens, uncased)', 'reader_code': 'https://github.com/RaRe-Technologies/gensim-data/releases/download/glove-wiki-gigaword-100/__init__.py', 'license': 'http://opendatacommons.org/licenses/pddl/', 'parameters': {'dimension': 100}, 'description': 'Pre-trained vectors based on Wikipedia 2014 + Gigaword 5.6B tokens, 400K vocab, uncased (https://nlp.stanford.edu/projects/glove/).', 'preprocessing': 'Converted to w2v format with `python -m gensim.scripts.glove2word2vec -i <fname> -o glove-wiki-gigaword-100.txt`.', 'read_more': ['https://nlp.stanford.edu/projects/glove/', 'https://nlp.stanford.edu/pubs/glove.pdf'], 'checksum': '40ec481866001177b8cd4cb0df92924f', 'file_name': 'glove-wiki-gigaword-100.gz', 'parts': 1}\n",
      "\n",
      "----------------------------------------------------------------------------------------------------\n",
      "\n",
      "glove-wiki-gigaword-200\n",
      "\n",
      "{'num_records': 400000, 'file_size': 264336934, 'base_dataset': 'Wikipedia 2014 + Gigaword 5 (6B tokens, uncased)', 'reader_code': 'https://github.com/RaRe-Technologies/gensim-data/releases/download/glove-wiki-gigaword-200/__init__.py', 'license': 'http://opendatacommons.org/licenses/pddl/', 'parameters': {'dimension': 200}, 'description': 'Pre-trained vectors based on Wikipedia 2014 + Gigaword, 5.6B tokens, 400K vocab, uncased (https://nlp.stanford.edu/projects/glove/).', 'preprocessing': 'Converted to w2v format with `python -m gensim.scripts.glove2word2vec -i <fname> -o glove-wiki-gigaword-200.txt`.', 'read_more': ['https://nlp.stanford.edu/projects/glove/', 'https://nlp.stanford.edu/pubs/glove.pdf'], 'checksum': '59652db361b7a87ee73834a6c391dfc1', 'file_name': 'glove-wiki-gigaword-200.gz', 'parts': 1}\n",
      "\n",
      "----------------------------------------------------------------------------------------------------\n",
      "\n",
      "glove-wiki-gigaword-300\n",
      "\n",
      "{'num_records': 400000, 'file_size': 394362229, 'base_dataset': 'Wikipedia 2014 + Gigaword 5 (6B tokens, uncased)', 'reader_code': 'https://github.com/RaRe-Technologies/gensim-data/releases/download/glove-wiki-gigaword-300/__init__.py', 'license': 'http://opendatacommons.org/licenses/pddl/', 'parameters': {'dimension': 300}, 'description': 'Pre-trained vectors based on Wikipedia 2014 + Gigaword, 5.6B tokens, 400K vocab, uncased (https://nlp.stanford.edu/projects/glove/).', 'preprocessing': 'Converted to w2v format with `python -m gensim.scripts.glove2word2vec -i <fname> -o glove-wiki-gigaword-300.txt`.', 'read_more': ['https://nlp.stanford.edu/projects/glove/', 'https://nlp.stanford.edu/pubs/glove.pdf'], 'checksum': '29e9329ac2241937d55b852e8284e89b', 'file_name': 'glove-wiki-gigaword-300.gz', 'parts': 1}\n",
      "\n",
      "----------------------------------------------------------------------------------------------------\n",
      "\n",
      "glove-twitter-25\n",
      "\n",
      "{'num_records': 1193514, 'file_size': 109885004, 'base_dataset': 'Twitter (2B tweets, 27B tokens, 1.2M vocab, uncased)', 'reader_code': 'https://github.com/RaRe-Technologies/gensim-data/releases/download/glove-twitter-25/__init__.py', 'license': 'http://opendatacommons.org/licenses/pddl/', 'parameters': {'dimension': 25}, 'description': 'Pre-trained vectors based on 2B tweets, 27B tokens, 1.2M vocab, uncased (https://nlp.stanford.edu/projects/glove/).', 'preprocessing': 'Converted to w2v format with `python -m gensim.scripts.glove2word2vec -i <fname> -o glove-twitter-25.txt`.', 'read_more': ['https://nlp.stanford.edu/projects/glove/', 'https://nlp.stanford.edu/pubs/glove.pdf'], 'checksum': '50db0211d7e7a2dcd362c6b774762793', 'file_name': 'glove-twitter-25.gz', 'parts': 1}\n",
      "\n",
      "----------------------------------------------------------------------------------------------------\n",
      "\n",
      "glove-twitter-50\n",
      "\n",
      "{'num_records': 1193514, 'file_size': 209216938, 'base_dataset': 'Twitter (2B tweets, 27B tokens, 1.2M vocab, uncased)', 'reader_code': 'https://github.com/RaRe-Technologies/gensim-data/releases/download/glove-twitter-50/__init__.py', 'license': 'http://opendatacommons.org/licenses/pddl/', 'parameters': {'dimension': 50}, 'description': 'Pre-trained vectors based on 2B tweets, 27B tokens, 1.2M vocab, uncased (https://nlp.stanford.edu/projects/glove/)', 'preprocessing': 'Converted to w2v format with `python -m gensim.scripts.glove2word2vec -i <fname> -o glove-twitter-50.txt`.', 'read_more': ['https://nlp.stanford.edu/projects/glove/', 'https://nlp.stanford.edu/pubs/glove.pdf'], 'checksum': 'c168f18641f8c8a00fe30984c4799b2b', 'file_name': 'glove-twitter-50.gz', 'parts': 1}\n",
      "\n",
      "----------------------------------------------------------------------------------------------------\n",
      "\n",
      "glove-twitter-100\n",
      "\n",
      "{'num_records': 1193514, 'file_size': 405932991, 'base_dataset': 'Twitter (2B tweets, 27B tokens, 1.2M vocab, uncased)', 'reader_code': 'https://github.com/RaRe-Technologies/gensim-data/releases/download/glove-twitter-100/__init__.py', 'license': 'http://opendatacommons.org/licenses/pddl/', 'parameters': {'dimension': 100}, 'description': 'Pre-trained vectors based on  2B tweets, 27B tokens, 1.2M vocab, uncased (https://nlp.stanford.edu/projects/glove/)', 'preprocessing': 'Converted to w2v format with `python -m gensim.scripts.glove2word2vec -i <fname> -o glove-twitter-100.txt`.', 'read_more': ['https://nlp.stanford.edu/projects/glove/', 'https://nlp.stanford.edu/pubs/glove.pdf'], 'checksum': 'b04f7bed38756d64cf55b58ce7e97b15', 'file_name': 'glove-twitter-100.gz', 'parts': 1}\n",
      "\n",
      "----------------------------------------------------------------------------------------------------\n",
      "\n",
      "glove-twitter-200\n",
      "\n",
      "{'num_records': 1193514, 'file_size': 795373100, 'base_dataset': 'Twitter (2B tweets, 27B tokens, 1.2M vocab, uncased)', 'reader_code': 'https://github.com/RaRe-Technologies/gensim-data/releases/download/glove-twitter-200/__init__.py', 'license': 'http://opendatacommons.org/licenses/pddl/', 'parameters': {'dimension': 200}, 'description': 'Pre-trained vectors based on 2B tweets, 27B tokens, 1.2M vocab, uncased (https://nlp.stanford.edu/projects/glove/).', 'preprocessing': 'Converted to w2v format with `python -m gensim.scripts.glove2word2vec -i <fname> -o glove-twitter-200.txt`.', 'read_more': ['https://nlp.stanford.edu/projects/glove/', 'https://nlp.stanford.edu/pubs/glove.pdf'], 'checksum': 'e52e8392d1860b95d5308a525817d8f9', 'file_name': 'glove-twitter-200.gz', 'parts': 1}\n",
      "\n",
      "----------------------------------------------------------------------------------------------------\n",
      "\n",
      "__testing_word2vec-matrix-synopsis\n",
      "\n",
      "{'description': '[THIS IS ONLY FOR TESTING] Word vecrors of the movie matrix.', 'parameters': {'dimensions': 50}, 'preprocessing': 'Converted to w2v using a preprocessed corpus. Converted to w2v format with `python3.5 -m gensim.models.word2vec -train <input_filename> -iter 50 -output <output_filename>`.', 'read_more': [], 'checksum': '534dcb8b56a360977a269b7bfc62d124', 'file_name': '__testing_word2vec-matrix-synopsis.gz', 'parts': 1}\n",
      "\n",
      "----------------------------------------------------------------------------------------------------\n",
      "\n"
     ]
    }
   ],
   "source": [
    "for k, v in info['models'].items():\n",
    "    print(k)\n",
    "    print()\n",
    "    print(v)\n",
    "    print()\n",
    "    print('-' * 100)\n",
    "    print()"
   ]
  },
  {
   "cell_type": "markdown",
   "metadata": {},
   "source": [
    "- Load API"
   ]
  },
  {
   "cell_type": "code",
   "execution_count": 10,
   "metadata": {},
   "outputs": [],
   "source": [
    "word2vec_google_news_300 = api.load('word2vec-google-news-300')"
   ]
  },
  {
   "cell_type": "code",
   "execution_count": 11,
   "metadata": {},
   "outputs": [],
   "source": [
    "glove_twitter_200 = api.load('glove-twitter-200')"
   ]
  },
  {
   "cell_type": "code",
   "execution_count": 12,
   "metadata": {},
   "outputs": [
    {
     "data": {
      "text/plain": [
       "3000000"
      ]
     },
     "execution_count": 12,
     "metadata": {},
     "output_type": "execute_result"
    }
   ],
   "source": [
    "len(word2vec_google_news_300.vocab)"
   ]
  },
  {
   "cell_type": "code",
   "execution_count": 13,
   "metadata": {},
   "outputs": [
    {
     "data": {
      "text/plain": [
       "1193514"
      ]
     },
     "execution_count": 13,
     "metadata": {},
     "output_type": "execute_result"
    }
   ],
   "source": [
    "len(glove_twitter_200.vocab)"
   ]
  },
  {
   "cell_type": "code",
   "execution_count": 14,
   "metadata": {
    "scrolled": true
   },
   "outputs": [
    {
     "name": "stdout",
     "output_type": "stream",
     "text": [
      "</s>\n",
      "in\n",
      "for\n",
      "that\n",
      "is\n",
      "on\n",
      "##\n",
      "The\n",
      "with\n",
      "said\n"
     ]
    }
   ],
   "source": [
    "for i, word in enumerate(word2vec_google_news_300.vocab):\n",
    "    if i == 10:\n",
    "        break\n",
    "    print(word)"
   ]
  },
  {
   "cell_type": "code",
   "execution_count": 15,
   "metadata": {},
   "outputs": [
    {
     "name": "stdout",
     "output_type": "stream",
     "text": [
      "<user>\n",
      ".\n",
      ":\n",
      "rt\n",
      ",\n",
      "<repeat>\n",
      "<hashtag>\n",
      "<number>\n",
      "<url>\n",
      "!\n"
     ]
    }
   ],
   "source": [
    "for i, word in enumerate(glove_twitter_200.vocab):\n",
    "    if i == 10:\n",
    "        break\n",
    "    print(word)"
   ]
  },
  {
   "cell_type": "markdown",
   "metadata": {},
   "source": [
    "- Get embedding vector"
   ]
  },
  {
   "cell_type": "markdown",
   "metadata": {},
   "source": [
    "If word is not existed in lookup table, return value is none.\n",
    "\n",
    "If word is existed in lookup table, return value is embedding vector."
   ]
  },
  {
   "cell_type": "code",
   "execution_count": 16,
   "metadata": {},
   "outputs": [
    {
     "data": {
      "text/plain": [
       "'jigaboo'"
      ]
     },
     "execution_count": 16,
     "metadata": {},
     "output_type": "execute_result"
    }
   ],
   "source": [
    "bad_words[0]"
   ]
  },
  {
   "cell_type": "code",
   "execution_count": 17,
   "metadata": {},
   "outputs": [
    {
     "name": "stdout",
     "output_type": "stream",
     "text": [
      "none\n"
     ]
    }
   ],
   "source": [
    "try:\n",
    "    print(word2vec_google_news_300.get_vector(bad_words[0]))\n",
    "except:\n",
    "    print('none')"
   ]
  },
  {
   "cell_type": "code",
   "execution_count": 18,
   "metadata": {},
   "outputs": [
    {
     "name": "stdout",
     "output_type": "stream",
     "text": [
      "[-1.0870e-01 -2.1004e-02  1.7415e-01 -1.0548e+00  2.1811e-01 -2.4795e-01\n",
      " -7.2842e-02 -6.9438e-02  6.3028e-03 -1.9839e-01 -6.7926e-02  4.7996e-01\n",
      " -6.6063e-02  7.6526e-01  2.3086e-01 -6.4989e-02 -4.0335e-01 -4.9110e-01\n",
      "  9.2070e-01  5.5322e-01  3.9024e-01  6.0316e-02 -1.3892e+00 -9.0766e-02\n",
      " -2.6582e-01  6.7318e-01  5.2483e-01 -1.2108e-02 -9.3434e-03 -1.4506e-01\n",
      "  8.5642e-01  3.5431e-01  3.5989e-01 -1.1250e-01 -3.2973e-01  7.5675e-02\n",
      "  1.0029e-01 -4.7237e-01 -3.9092e-01  2.7852e-01  7.3966e-01  3.5905e-01\n",
      " -7.1553e-01 -9.2904e-01 -2.9183e-02  2.8604e-01 -4.1473e-01 -1.4863e-01\n",
      " -5.4471e-01  4.8023e-01  7.9210e-01  4.1138e-01  1.2886e-01 -7.9197e-01\n",
      "  1.6551e-02  1.2980e-01  1.0587e-01  8.9544e-02  4.8871e-02  7.5239e-02\n",
      " -2.9571e-01 -8.1818e-02 -1.6915e-01  8.2103e-01  3.3072e-01  2.0157e-01\n",
      " -2.2244e-01  1.0607e-01 -1.9448e-01 -2.5275e-01 -2.5536e-01  8.0882e-01\n",
      "  1.5313e-01 -3.2275e-01 -1.6899e-01  2.7404e-01  1.0536e+00  1.1852e-01\n",
      "  7.4074e-01 -2.2982e-01  2.2597e-01  6.6268e-01 -2.2984e-01  2.3872e-02\n",
      " -2.4237e-01  4.3939e-01  1.1991e-01 -5.6713e-01  3.9723e-03 -2.7818e-01\n",
      "  2.3817e-01  4.8193e-01  1.8015e-01  6.2429e-02 -1.0290e-01  4.4450e-01\n",
      "  9.9257e-01 -2.3118e-01  2.9920e-04  2.6661e-01 -5.9004e-01  7.2403e-01\n",
      " -4.8392e-01  6.6424e-02  2.4209e-02 -2.2811e-01 -3.3107e-01  5.9896e-01\n",
      "  3.3627e-01 -7.0050e-01  2.7511e-02  6.7644e-02 -9.0759e-02 -8.4759e-02\n",
      " -1.1604e-01 -2.1471e-02 -5.6538e-01  2.1655e-01 -1.7920e-02  1.3228e-01\n",
      "  6.7216e-01  2.0253e-01  5.9930e-01 -5.9431e-01 -8.1878e-02  4.3719e-01\n",
      "  1.8420e-01  1.9784e-01  1.4835e-01  2.6988e-01  2.3720e-01  1.9579e-01\n",
      "  3.8348e-01 -3.5596e-01  8.3321e-02  3.7612e-01  2.2146e-01  8.9767e-01\n",
      "  6.6256e-01  5.0519e-01  3.8976e-01 -4.9602e-01 -5.7426e-01 -2.6960e-01\n",
      " -3.3339e-01 -3.5175e-01  3.5791e-01 -1.2612e-01 -5.9357e-01  3.2468e-01\n",
      " -5.8779e-02 -9.1401e-02  4.0413e-01  3.8128e-01 -8.7543e-01  1.3135e-01\n",
      " -6.2891e-01  4.5976e-01 -8.6318e-01  6.6124e-01  1.0032e+00  2.2755e-01\n",
      " -3.2226e-02  4.5082e-01 -1.6553e-02 -4.7989e-02  2.7597e-01 -7.1683e-01\n",
      "  5.7388e-02 -2.6294e-01 -2.9963e-01  7.9351e-02  1.0333e-01  5.6680e-01\n",
      " -2.8732e-01 -6.4077e-01  9.3331e-01 -1.9447e-01 -4.8092e-01 -4.6221e-01\n",
      "  2.6277e-01  8.4614e-03  8.5894e-01 -3.8443e-01 -3.3952e-01  1.5328e-01\n",
      "  7.5709e-03  3.4616e-01 -2.7522e-02 -5.5306e-01 -6.1658e-01  6.4225e-01\n",
      "  7.3914e-01  3.5796e-03  8.1558e-01  4.0681e-01  5.5710e-02  7.5746e-01\n",
      " -6.1197e-01 -7.2282e-01]\n"
     ]
    }
   ],
   "source": [
    "try:\n",
    "    print(glove_twitter_200.get_vector(bad_words[0]))\n",
    "except:\n",
    "    print('none')"
   ]
  },
  {
   "cell_type": "code",
   "execution_count": 19,
   "metadata": {},
   "outputs": [
    {
     "data": {
      "text/plain": [
       "'s&m'"
      ]
     },
     "execution_count": 19,
     "metadata": {},
     "output_type": "execute_result"
    }
   ],
   "source": [
    "bad_words[3]"
   ]
  },
  {
   "cell_type": "code",
   "execution_count": 20,
   "metadata": {},
   "outputs": [
    {
     "name": "stdout",
     "output_type": "stream",
     "text": [
      "none\n"
     ]
    }
   ],
   "source": [
    "try:\n",
    "    print(word2vec_google_news_300.get_vector(bad_words[3]))\n",
    "except:\n",
    "    print('none')"
   ]
  },
  {
   "cell_type": "code",
   "execution_count": 21,
   "metadata": {
    "scrolled": false
   },
   "outputs": [
    {
     "name": "stdout",
     "output_type": "stream",
     "text": [
      "[-0.75013    0.087774   0.2244     0.47707   -0.0038958  0.15555\n",
      "  0.24796   -0.35839    0.15144    0.19106    0.27018    0.79545\n",
      " -0.5949     0.13817   -0.10113   -0.53776    0.12719   -0.45693\n",
      " -0.3069     0.73401   -0.18045    0.085725   0.16253   -0.43057\n",
      " -0.030176   0.2681    -0.28683    0.057037  -0.039191  -0.13644\n",
      "  0.51266    0.42115   -0.56974   -0.50861   -0.39862    0.012324\n",
      "  0.86042   -0.28433    0.42327    0.79735    0.11105   -0.17135\n",
      "  0.28766   -0.59722    0.0059886  0.27914   -0.31138   -0.16583\n",
      " -0.64471   -0.65251    0.58749    0.49446   -0.47626    0.0087102\n",
      "  0.26987    0.35357   -0.77684    0.10121    0.48083    0.7141\n",
      " -0.26345   -0.0050966 -0.31146   -0.31731   -0.57739    0.027993\n",
      "  0.40365    0.71087    0.26959   -0.33791   -0.11653    0.08904\n",
      " -0.11253    0.093513   0.27132   -0.074503   0.30955    0.72732\n",
      "  0.10922   -0.11386    0.13061   -0.22861    0.097404   0.39643\n",
      " -0.39708   -0.23537    0.1646    -0.0098931 -0.26343    0.071867\n",
      " -0.037648  -0.096887  -0.012571  -0.17232    0.012653  -0.14654\n",
      " -0.0021464  0.1928    -0.40805    0.27255   -0.088118  -0.35132\n",
      " -0.23173    0.2551    -0.061975  -0.23636   -0.53655   -0.83123\n",
      "  0.22794   -0.076952  -0.45353   -0.022206  -0.020414   0.40297\n",
      " -0.55438    0.26942   -0.11994   -0.059386   0.082385   0.83494\n",
      "  0.025989  -0.046889   0.070158  -0.29603    0.24697    0.53655\n",
      "  0.24003    0.4801     0.57792    0.051614   0.061933   0.44167\n",
      "  0.49388   -0.092114   0.34073    0.71799    0.066643   0.019081\n",
      "  0.35069   -0.4302     0.45409    0.018606  -0.49439    0.2454\n",
      " -0.83676   -0.058863   0.062132  -0.08275    0.13449    0.5299\n",
      "  0.12768   -0.072593  -0.27537   -0.11319   -0.45398    0.29419\n",
      " -0.18051    0.22522   -0.074759   0.41476    0.11428   -0.0060482\n",
      " -0.15502   -0.65431    0.045444  -0.25153   -0.049937  -0.48143\n",
      "  0.35989    0.41857    0.44923   -0.23303   -0.028375   0.10477\n",
      "  0.19864    0.11497   -0.034935   0.087468  -0.21077   -0.059066\n",
      " -0.56067   -0.43276   -0.2531     0.12799   -0.50824   -0.17037\n",
      "  0.19769    0.05294   -0.0038913 -0.25892   -0.050697  -0.10306\n",
      "  0.11696   -0.27453    0.33614    0.15027    0.80651    0.1442\n",
      " -0.11267   -1.0093   ]\n"
     ]
    }
   ],
   "source": [
    "try:\n",
    "    print(glove_twitter_200.get_vector(bad_words[3]))\n",
    "except:\n",
    "    print('none')"
   ]
  },
  {
   "cell_type": "markdown",
   "metadata": {},
   "source": [
    "# - Get similarity by using gensim"
   ]
  },
  {
   "cell_type": "code",
   "execution_count": 22,
   "metadata": {},
   "outputs": [
    {
     "name": "stderr",
     "output_type": "stream",
     "text": [
      "/home/taeyong/anaconda3/lib/python3.7/site-packages/ipykernel_launcher.py:1: DeprecationWarning: Call to deprecated `wv` (Attribute will be removed in 4.0.0, use self instead).\n",
      "  \"\"\"Entry point for launching an IPython kernel.\n"
     ]
    }
   ],
   "source": [
    "cosine = glove_twitter_200.wv.n_similarity(bad_words[0], bad_words[3])"
   ]
  },
  {
   "cell_type": "code",
   "execution_count": 23,
   "metadata": {},
   "outputs": [
    {
     "data": {
      "text/plain": [
       "0.84783465"
      ]
     },
     "execution_count": 23,
     "metadata": {},
     "output_type": "execute_result"
    }
   ],
   "source": [
    "cosine"
   ]
  },
  {
   "cell_type": "code",
   "execution_count": 24,
   "metadata": {
    "scrolled": true
   },
   "outputs": [
    {
     "data": {
      "text/plain": [
       "[('SUV', 0.853219211101532),\n",
       " ('vehicle', 0.8175784349441528),\n",
       " ('pickup_truck', 0.7763689160346985),\n",
       " ('Jeep', 0.7567334175109863),\n",
       " ('Ford_Explorer', 0.756571888923645)]"
      ]
     },
     "execution_count": 24,
     "metadata": {},
     "output_type": "execute_result"
    }
   ],
   "source": [
    "word2vec_google_news_300.most_similar(positive=['car', 'minivan'], topn=5)"
   ]
  },
  {
   "cell_type": "markdown",
   "metadata": {},
   "source": [
    "# - Application of pretrained lookup table"
   ]
  },
  {
   "cell_type": "code",
   "execution_count": 25,
   "metadata": {},
   "outputs": [],
   "source": [
    "embedding_dim = 200"
   ]
  },
  {
   "cell_type": "code",
   "execution_count": 26,
   "metadata": {},
   "outputs": [
    {
     "name": "stdout",
     "output_type": "stream",
     "text": [
      "asslover\n",
      "queaf\n",
      "meatrack\n",
      "ra8s\n",
      "pudboy\n",
      "slanteye\n",
      "muffdiving\n",
      "jiggabo\n",
      "peepshpw\n",
      "popimp\n",
      "peni5\n",
      "barface\n",
      "sixsixsix\n",
      "niggled\n",
      "muffindiver\n",
      "cocksman\n",
      "scag\n",
      "fingerfucker\n",
      "nlggor\n",
      "mothafucked\n",
      "spaghettinigger\n",
      "mickeyfinn\n",
      "jizzim\n",
      "quashie\n",
      "lickme\n",
      "tonguetramp\n",
      "crackpipe\n",
      "buttmuncher\n",
      "hotpussy\n",
      "cuntfucker\n",
      "dicklicker\n",
      "cunillingus\n",
      "hitlerism\n",
      "dicklick\n",
      "kunilingus\n",
      "tonguethrust\n",
      "fistfucking\n",
      "assmonkey\n",
      "cockknob\n",
      "children's\n",
      "footfucker\n",
      "cuntlicking\n",
      "sexy-slim\n",
      "jijjiboo\n",
      "fuckfriend\n",
      "pthc\n",
      "sniggered\n",
      "buttfuckers\n",
      "nutfucker\n",
      "peehole\n",
      "lesbayn\n",
      "shortfuck\n",
      "cherrypopper\n",
      "butchbabes\n",
      "butt-fuckers\n",
      "spigotty\n",
      "clogwog\n",
      "bollick\n",
      "nimphomania\n",
      "asspirate\n",
      "pimpjuice\n",
      "nookey\n",
      "breastman\n",
      "beatyourmeat\n",
      "eatballs\n",
      "nlgger\n",
      "dixiedyke\n",
      "junglebunny\n",
      "shitforbrains\n",
      "nastyslut\n",
      "lubejob\n",
      "sexfarm\n",
      "lezbe\n",
      "tribadism\n",
      "butt-bang\n",
      "asskiss\n",
      "2g1c\n",
      "cunntt\n",
      "slideitin\n",
      "cuntfuck\n",
      "trailertrash\n",
      "trannie\n",
      "sexhound\n",
      "titlover\n",
      "krappy\n",
      "cockcowboy\n",
      "mufflikcer\n",
      "brea5t\n",
      "cumbubble\n",
      "sextogo\n",
      "jimfish\n",
      "flydye\n",
      "niggard's\n",
      "devilworshipper\n",
      "fastfuck\n",
      "bastinado\n",
      "kondum\n",
      "titfucker\n",
      "shitola\n",
      "pimpsimp\n",
      "zigabo\n",
      "sleezebag\n",
      "slutwhore\n",
      "cumfest\n",
      "niggardliness\n",
      "nigr\n",
      "sandnigger\n",
      "acrotomophilia\n",
      "fuckmonkey\n",
      "pubiclice\n",
      "cyberslimer\n",
      "gypp\n",
      "mothafuckings\n",
      "peckerwood\n",
      "thicklips\n",
      "flydie\n",
      "butchdyke\n",
      "skumbag\n",
      "dickforbrains\n",
      "kumbullbe\n",
      "niggerhole\n",
      "niggard\n",
      "assranger\n",
      "beat-off\n",
      "asspuppies\n",
      "jiggerboo\n",
      "cuntlick\n",
      "pommie\n",
      "feltch\n",
      "zipperhead\n",
      "goddamnmuthafucker\n",
      "whiskeydick\n",
      "slopy\n",
      "nofuckingway\n",
      "mastrabator\n",
      "cockqueen\n",
      "snownigger\n",
      "holestuffer\n",
      "nipplering\n",
      "palesimian\n",
      "cumqueen\n",
      "mocky\n",
      "suckmytit\n",
      "vorarephilia\n",
      "spermhearder\n",
      "lovebone\n",
      "spreadeagle\n",
      "coprolagnia\n",
      "shrimping\n",
      "purinapricness\n",
      "sexslave\n",
      "iblowu\n",
      "easyslut\n",
      "cocksucked\n",
      "hosejob\n",
      "cumjockey\n",
      "lovegoo\n",
      "sexwhore\n",
      "phuked\n",
      "suckoff\n",
      "shithapens\n",
      "wetspot\n",
      "alligatorbait\n",
      "shitfit\n",
      "bulldyke\n",
      "suckmyass\n",
      "bohunk\n",
      "fannyfucker\n",
      "gaymuthafuckinwhore\n",
      "fagging\n",
      "groe\n",
      "asslicker\n",
      "seppo\n",
      "asswhore\n",
      "titlicker\n",
      "buttstain\n",
      "spermacide\n",
      "skankybitch\n",
      "puddboy\n",
      "coondog\n",
      "mockie\n",
      "kumbubble\n",
      "ontherag\n",
      "daterape\n",
      "phukked\n",
      "cuntlicker\n",
      "lezbefriends\n",
      "pohm\n",
      "nastywhore\n",
      "upthebutt\n",
      "cohee\n",
      "fistfuck\n",
      "japcrap\n",
      "towelhead\n",
      "niggerhead\n",
      "analannie\n",
      "breastjob\n",
      "kumming\n",
      "reestie\n",
      "suckme\n",
      "titbitnipply\n",
      "skankwhore\n",
      "fudgepacker\n",
      "deapthroat\n",
      "barelylegal\n",
      "shinola\n",
      "gokkun\n",
      "buttpirate\n",
      "goregasm\n",
      "freakfuck\n",
      "2\n",
      "1\n",
      "crotchjockey\n",
      "dripdick\n",
      "fuckina\n",
      "phungky\n",
      "magicwand\n",
      "butt-fucker\n",
      "fuckpig\n",
      "manpaste\n",
      "whiskydick\n",
      "rearend\n",
      "niggardliness's\n",
      "hindoo\n",
      "backdoorman\n",
      "clamdiver\n",
      "pussylicker\n",
      "nigre\n",
      "phuking\n",
      "dyefly\n",
      "pickaninny\n",
      "suckdick\n",
      "bigbastard\n",
      "mosshead\n",
      "pornking\n",
      "pimper\n",
      "mockey\n",
      "prickhead\n",
      "pussyeater\n",
      "cocksmith\n",
      "niggarding\n",
      "smackthemonkey\n",
      "badfuck\n",
      "fistfucked\n",
      "ginzo\n",
      "mattressprincess\n",
      "beastality\n",
      "cocksucer\n",
      "poopchute\n",
      "5\n",
      "doggiestyle\n",
      "dickbrain\n",
      "felch\n",
      "wetb\n",
      "freefuck\n",
      "butt-fuck\n",
      "snowback\n",
      "cockfight\n",
      "mggor\n",
      "skankbitch\n",
      "babeland\n",
      "timbernigger\n",
      "picaninny\n",
      "whorefucker\n",
      "grostulation\n",
      "dixiedike\n",
      "shitfucker\n",
      "hymie\n",
      "sheeney\n",
      "cameljockey\n",
      "footfuck\n",
      "sonofbitch\n",
      "feltcher\n",
      "fingerfuckers\n",
      "lovepistol\n",
      "motherlovebone\n",
      "lugan\n",
      "pornflick\n",
      "russkie\n",
      "thirdleg\n",
      "gonzagas\n",
      "asskisser\n",
      "crotchrot\n",
      "lezzo\n",
      "slopey\n",
      "skankfuck\n",
      "facefucker\n",
      "assmuncher\n",
      "stupidfuck\n",
      "assmunch\n",
      "poorwhitetrash\n",
      "getiton\n",
      "bulldike\n",
      "moky\n",
      "skinflute\n",
      "asspacker\n",
      "raghead\n",
      "knobbing\n",
      "glazeddonut\n",
      "fuckmehard\n",
      "gyppie\n",
      "kinkster\n",
      "shitfull\n",
      "sexymoma\n",
      "cacker\n",
      "porchmonkey\n",
      "assbagger\n",
      "limy\n",
      "negro's\n",
      "cunteyed\n",
      "tarbaby\n",
      "wuzzie\n",
      "sadom\n",
      "pimpjuic\n",
      "footstar\n",
      "goatcx\n",
      "spermbag\n",
      "beatoff\n",
      "urophilia\n",
      "niggarded\n",
      "kaffer\n",
      "rearentry\n",
      "loverocket\n",
      "asshore\n",
      "fingerfood\n",
      "omorashi\n",
      "spig\n",
      "freakyfucker\n",
      "birdlock\n",
      "nastyho\n",
      "goddamnes\n",
      "pooperscooper\n",
      "spankthemonkey\n",
      "pendy\n",
      "splittail\n",
      "clamdigger\n",
      "niggor\n",
      "motherfucked\n",
      "sexkitten\n",
      "gyppo\n",
      "slopehead\n",
      "fingerfuck\n",
      "williewanker\n",
      "sixtyniner\n",
      "manhater\n",
      "hitlerist\n",
      "pi55\n",
      "muffdiver\n",
      "mooncricket\n",
      "intheass\n",
      "jacktheripper\n",
      "felcher\n",
      "spaghettibender\n",
      "russki\n",
      "slimebucket\n",
      "goodpoop\n",
      "shitcan\n",
      "rentafuck\n",
      "shitoutofluck\n",
      "pindick\n",
      "cockrider\n",
      "felching\n",
      "balllicker\n",
      "ponyplay\n",
      "jizzum\n",
      "hodgie\n",
      "fatfucker\n",
      "hork\n",
      "nymphomania\n",
      "assjockey\n",
      "fistfucker\n",
      "zoophilia\n",
      "nigglings\n",
      "hiscock\n",
      "erotism\n",
      "whash\n",
      "fuckinnuts\n",
      "butchdike\n",
      "datnigga\n",
      "luckycammeltoe\n",
      "slutwear\n",
      "shawtypimp\n",
      "muffdive\n",
      "tunneloflove\n",
      "fuckwhore\n",
      "homobangers\n",
      "barfface\n",
      "pearlnecklace\n",
      "sleezeball\n",
      "anilingus\n",
      "stupidfucker\n",
      "loadedgun\n",
      "beastial\n",
      "pussylover\n",
      "frotting\n",
      "thirdeye\n",
      "fuckknob\n",
      "inthebuff\n",
      "nawashi\n",
      "roundeye\n",
      "mastabate\n",
      "kunnilingus\n",
      "tubgirl\n",
      "snatchpatch\n",
      "pussypounder\n",
      "pu55i\n",
      "footlicker\n",
      "funfuck\n",
      "spermherder\n",
      "buttfucker\n",
      "kanake\n",
      "waysted\n",
      "carpetmuncher\n",
      "strappado\n",
      "limpdick\n",
      "polack\n",
      "pornprincess\n",
      "gonorrehea\n",
      "meatbeatter\n",
      "crotchmonkey\n",
      "whitenigger\n",
      "buttbang\n",
      "niggaracci\n",
      "pussyfucker\n",
      "autoerotic\n",
      "fckcum\n",
      "cocksmoker\n",
      "cocklover\n",
      "assblaster\n",
      "bazooms\n",
      "fuckfreak\n",
      "cuntsucker\n",
      "fingerfucked\n",
      "mastabater\n",
      "byatch\n",
      "whigger\n",
      "asscowboy\n",
      "bazongas\n",
      "chickslick\n",
      "niggards\n",
      "kaffre\n",
      "crack-whore\n",
      "lesbin\n",
      "nudger\n",
      "women's\n",
      "boonga\n",
      "cra5h\n",
      "fingerfucking\n",
      "athletesfoot\n",
      "cocknob\n",
      "fuckbag\n",
      "figging\n",
      "hottotrot\n",
      "kinbaku\n",
      "sexhouse\n",
      "nittit\n",
      "assfucker\n",
      "jizim\n",
      "dolcett\n",
      "cumquat\n",
      "eatpussy\n",
      "givehead\n",
      "phukking\n",
      "shiteater\n",
      "cocksuck\n",
      "feltching\n",
      "skankywhore\n",
      "pu55y\n",
      "motherfuckings\n",
      "yiffy\n",
      "tongethruster\n",
      "nigger's\n",
      "breastlover\n",
      "twobitwhore\n",
      "israel's\n",
      "pocketpool\n",
      "gyppy\n",
      "snigger's\n",
      "lovemuscle\n",
      "pisspig\n",
      "coprophilia\n",
      "slavedriver\n",
      "uptheass\n",
      "piccaninny\n",
      "jizjuice\n",
      "mgger\n",
      "virginbreaker\n",
      "samckdaddy\n",
      "masterblaster\n",
      "lovegun\n",
      "jizm\n",
      "dragqween\n",
      "titfuckin\n",
      "camslut\n",
      "bountybar\n",
      "assklown\n",
      "unfuckable\n",
      "cocklicker\n"
     ]
    }
   ],
   "source": [
    "import numpy as np\n",
    "\n",
    "embedding_matrix = np.zeros((len(word_index) + 1, embedding_dim))\n",
    "for word, i in word_index.items():\n",
    "    try:\n",
    "        embedding_vector = glove_twitter_200.get_vector(word)\n",
    "        # words not found in embedding index will be all-zeros.\n",
    "        embedding_matrix[i] = embedding_vector\n",
    "    except:\n",
    "        print(word)"
   ]
  },
  {
   "cell_type": "markdown",
   "metadata": {},
   "source": [
    "- Keras embedding layer with pretrained lookup table"
   ]
  },
  {
   "cell_type": "code",
   "execution_count": 27,
   "metadata": {},
   "outputs": [],
   "source": [
    "max_len = 100"
   ]
  },
  {
   "cell_type": "code",
   "execution_count": 28,
   "metadata": {},
   "outputs": [],
   "source": [
    "from tensorflow.keras.layers import Embedding\n",
    "\n",
    "pretrained_embedding_layer = Embedding(len(word_index) + 1,\n",
    "                            embedding_dim,\n",
    "                            weights=[embedding_matrix],\n",
    "                            input_length=max_len,\n",
    "                            trainable=False)"
   ]
  },
  {
   "cell_type": "markdown",
   "metadata": {},
   "source": [
    "# - Gluonnlp pretrained embedding model"
   ]
  },
  {
   "cell_type": "code",
   "execution_count": 29,
   "metadata": {},
   "outputs": [],
   "source": [
    "import gluonnlp as nlp\n",
    "from mxnet import gluon\n",
    "from mxnet import nd"
   ]
  },
  {
   "cell_type": "markdown",
   "metadata": {},
   "source": [
    "- API information"
   ]
  },
  {
   "cell_type": "code",
   "execution_count": 30,
   "metadata": {},
   "outputs": [
    {
     "data": {
      "text/plain": [
       "['GoogleNews-vectors-negative300',\n",
       " 'freebase-vectors-skipgram1000-en',\n",
       " 'freebase-vectors-skipgram1000']"
      ]
     },
     "execution_count": 30,
     "metadata": {},
     "output_type": "execute_result"
    }
   ],
   "source": [
    "nlp.embedding.list_sources('word2vec')"
   ]
  },
  {
   "cell_type": "code",
   "execution_count": 31,
   "metadata": {},
   "outputs": [
    {
     "data": {
      "text/plain": [
       "['glove.42B.300d',\n",
       " 'glove.6B.100d',\n",
       " 'glove.6B.200d',\n",
       " 'glove.6B.300d',\n",
       " 'glove.6B.50d',\n",
       " 'glove.840B.300d',\n",
       " 'glove.twitter.27B.100d',\n",
       " 'glove.twitter.27B.200d',\n",
       " 'glove.twitter.27B.25d',\n",
       " 'glove.twitter.27B.50d']"
      ]
     },
     "execution_count": 31,
     "metadata": {},
     "output_type": "execute_result"
    }
   ],
   "source": [
    "nlp.embedding.list_sources('glove')"
   ]
  },
  {
   "cell_type": "code",
   "execution_count": 32,
   "metadata": {
    "scrolled": true
   },
   "outputs": [
    {
     "data": {
      "text/plain": [
       "['crawl-300d-2M',\n",
       " 'crawl-300d-2M-subword',\n",
       " 'wiki.aa',\n",
       " 'wiki.ab',\n",
       " 'wiki.ace',\n",
       " 'wiki.ady',\n",
       " 'wiki.af',\n",
       " 'wiki.ak',\n",
       " 'wiki.als',\n",
       " 'wiki.am',\n",
       " 'wiki.ang',\n",
       " 'wiki.an',\n",
       " 'wiki.arc',\n",
       " 'wiki.ar',\n",
       " 'wiki.arz',\n",
       " 'wiki.as',\n",
       " 'wiki.ast',\n",
       " 'wiki.av',\n",
       " 'wiki.ay',\n",
       " 'wiki.azb',\n",
       " 'wiki.az',\n",
       " 'wiki.ba',\n",
       " 'wiki.bar',\n",
       " 'wiki.bat_smg',\n",
       " 'wiki.bcl',\n",
       " 'wiki.be',\n",
       " 'wiki.bg',\n",
       " 'wiki.bh',\n",
       " 'wiki.bi',\n",
       " 'wiki.bjn',\n",
       " 'wiki.bm',\n",
       " 'wiki.bn',\n",
       " 'wiki.bo',\n",
       " 'wiki.bpy',\n",
       " 'wiki.br',\n",
       " 'wiki.bs',\n",
       " 'wiki.bug',\n",
       " 'wiki.bxr',\n",
       " 'wiki.ca',\n",
       " 'wiki.cbk_zam',\n",
       " 'wiki.cdo',\n",
       " 'wiki.ceb',\n",
       " 'wiki.ce',\n",
       " 'wiki.ch',\n",
       " 'wiki.cho',\n",
       " 'wiki.chr',\n",
       " 'wiki.chy',\n",
       " 'wiki.ckb',\n",
       " 'wiki.co',\n",
       " 'wiki.crh',\n",
       " 'wiki.cr',\n",
       " 'wiki.csb',\n",
       " 'wiki.cs',\n",
       " 'wiki.cu',\n",
       " 'wiki.cv',\n",
       " 'wiki.cy',\n",
       " 'wiki.da',\n",
       " 'wiki.de',\n",
       " 'wiki.diq',\n",
       " 'wiki.dsb',\n",
       " 'wiki.dv',\n",
       " 'wiki.dz',\n",
       " 'wiki.ee',\n",
       " 'wiki.el',\n",
       " 'wiki.eml',\n",
       " 'wiki.en',\n",
       " 'wiki.eo',\n",
       " 'wiki.es',\n",
       " 'wiki.et',\n",
       " 'wiki.eu',\n",
       " 'wiki.ext',\n",
       " 'wiki.fa',\n",
       " 'wiki.ff',\n",
       " 'wiki.fi',\n",
       " 'wiki.fiu_vro',\n",
       " 'wiki.fj',\n",
       " 'wiki.fo',\n",
       " 'wiki.fr',\n",
       " 'wiki.frp',\n",
       " 'wiki.frr',\n",
       " 'wiki.fur',\n",
       " 'wiki.fy',\n",
       " 'wiki.gag',\n",
       " 'wiki.gan',\n",
       " 'wiki.ga',\n",
       " 'wiki.gd',\n",
       " 'wiki.glk',\n",
       " 'wiki.gl',\n",
       " 'wiki.gn',\n",
       " 'wiki.gom',\n",
       " 'wiki.got',\n",
       " 'wiki.gu',\n",
       " 'wiki.gv',\n",
       " 'wiki.hak',\n",
       " 'wiki.ha',\n",
       " 'wiki.haw',\n",
       " 'wiki.he',\n",
       " 'wiki.hif',\n",
       " 'wiki.hi',\n",
       " 'wiki.ho',\n",
       " 'wiki.hr',\n",
       " 'wiki.hsb',\n",
       " 'wiki.ht',\n",
       " 'wiki.hu',\n",
       " 'wiki.hy',\n",
       " 'wiki.hz',\n",
       " 'wiki.ia',\n",
       " 'wiki.id',\n",
       " 'wiki.ie',\n",
       " 'wiki.ig',\n",
       " 'wiki.ii',\n",
       " 'wiki.ik',\n",
       " 'wiki.ilo',\n",
       " 'wiki.io',\n",
       " 'wiki.is',\n",
       " 'wiki.it',\n",
       " 'wiki.iu',\n",
       " 'wiki.jam',\n",
       " 'wiki.ja',\n",
       " 'wiki.jbo',\n",
       " 'wiki.jv',\n",
       " 'wiki.kaa',\n",
       " 'wiki.kab',\n",
       " 'wiki.ka',\n",
       " 'wiki.kbd',\n",
       " 'wiki.kg',\n",
       " 'wiki.ki',\n",
       " 'wiki.kj',\n",
       " 'wiki.kk',\n",
       " 'wiki.kl',\n",
       " 'wiki.km',\n",
       " 'wiki.kn',\n",
       " 'wiki.koi',\n",
       " 'wiki.ko',\n",
       " 'wiki.krc',\n",
       " 'wiki.kr',\n",
       " 'wiki.ksh',\n",
       " 'wiki.ks',\n",
       " 'wiki.ku',\n",
       " 'wiki.kv',\n",
       " 'wiki.kw',\n",
       " 'wiki.ky',\n",
       " 'wiki.lad',\n",
       " 'wiki.la',\n",
       " 'wiki.lbe',\n",
       " 'wiki.lb',\n",
       " 'wiki.lez',\n",
       " 'wiki.lg',\n",
       " 'wiki.lij',\n",
       " 'wiki.li',\n",
       " 'wiki.lmo',\n",
       " 'wiki.ln',\n",
       " 'wiki.lo',\n",
       " 'wiki.lrc',\n",
       " 'wiki.ltg',\n",
       " 'wiki.lt',\n",
       " 'wiki.lv',\n",
       " 'wiki.mai',\n",
       " 'wiki.map_bms',\n",
       " 'wiki.mdf',\n",
       " 'wiki.mg',\n",
       " 'wiki.mh',\n",
       " 'wiki.mhr',\n",
       " 'wiki.min',\n",
       " 'wiki.mi',\n",
       " 'wiki.mk',\n",
       " 'wiki.ml',\n",
       " 'wiki.mn',\n",
       " 'wiki.mo',\n",
       " 'wiki.mrj',\n",
       " 'wiki.mr',\n",
       " 'wiki.ms',\n",
       " 'wiki.mt',\n",
       " 'wiki.multi.ar',\n",
       " 'wiki.multi.bg',\n",
       " 'wiki.multi.ca',\n",
       " 'wiki.multi.cs',\n",
       " 'wiki.multi.da',\n",
       " 'wiki.multi.de',\n",
       " 'wiki.multi.el',\n",
       " 'wiki.multi.en',\n",
       " 'wiki.multi.es',\n",
       " 'wiki.multi.et',\n",
       " 'wiki.multi.fi',\n",
       " 'wiki.multi.fr',\n",
       " 'wiki.multi.he',\n",
       " 'wiki.multi.hr',\n",
       " 'wiki.multi.hu',\n",
       " 'wiki.multi.id',\n",
       " 'wiki.multi.it',\n",
       " 'wiki.multi.mk',\n",
       " 'wiki.multi.nl',\n",
       " 'wiki.multi.no',\n",
       " 'wiki.multi.pl',\n",
       " 'wiki.multi.pt',\n",
       " 'wiki.multi.ro',\n",
       " 'wiki.multi.ru',\n",
       " 'wiki.multi.sk',\n",
       " 'wiki.multi.sl',\n",
       " 'wiki.multi.sv',\n",
       " 'wiki.multi.tr',\n",
       " 'wiki.multi.uk',\n",
       " 'wiki.multi.vi',\n",
       " 'wiki.mus',\n",
       " 'wiki.mwl',\n",
       " 'wiki.my',\n",
       " 'wiki.myv',\n",
       " 'wiki.mzn',\n",
       " 'wiki.nah',\n",
       " 'wiki.na',\n",
       " 'wiki.nap',\n",
       " 'wiki.nds_nl',\n",
       " 'wiki.nds',\n",
       " 'wiki.ne',\n",
       " 'wiki.new',\n",
       " 'wiki-news-300d-1M',\n",
       " 'wiki-news-300d-1M-subword',\n",
       " 'wiki.ng',\n",
       " 'wiki.nl',\n",
       " 'wiki.nn',\n",
       " 'wiki.no',\n",
       " 'wiki.nov',\n",
       " 'wiki.vec',\n",
       " 'wiki.nrm',\n",
       " 'wiki.nso',\n",
       " 'wiki.nv',\n",
       " 'wiki.ny',\n",
       " 'wiki.oc',\n",
       " 'wiki.olo',\n",
       " 'wiki.om',\n",
       " 'wiki.or',\n",
       " 'wiki.os',\n",
       " 'wiki.pag',\n",
       " 'wiki.pam',\n",
       " 'wiki.pa',\n",
       " 'wiki.pap',\n",
       " 'wiki.pcd',\n",
       " 'wiki.pdc',\n",
       " 'wiki.pfl',\n",
       " 'wiki.pih',\n",
       " 'wiki.pi',\n",
       " 'wiki.pl',\n",
       " 'wiki.pms',\n",
       " 'wiki.pnb',\n",
       " 'wiki.pnt',\n",
       " 'wiki.ps',\n",
       " 'wiki.pt',\n",
       " 'wiki.qu',\n",
       " 'wiki.rm',\n",
       " 'wiki.rmy',\n",
       " 'wiki.rn',\n",
       " 'wiki.roa_rup',\n",
       " 'wiki.roa_tara',\n",
       " 'wiki.ro',\n",
       " 'wiki.rue',\n",
       " 'wiki.ru',\n",
       " 'wiki.rw',\n",
       " 'wiki.sah',\n",
       " 'wiki.sa',\n",
       " 'wiki.scn',\n",
       " 'wiki.sc',\n",
       " 'wiki.sco',\n",
       " 'wiki.sd',\n",
       " 'wiki.se',\n",
       " 'wiki.sg',\n",
       " 'wiki.sh',\n",
       " 'wiki.simple',\n",
       " 'wiki.si',\n",
       " 'wiki.sk',\n",
       " 'wiki.sl',\n",
       " 'wiki.sm',\n",
       " 'wiki.sn',\n",
       " 'wiki.so',\n",
       " 'wiki.sq',\n",
       " 'wiki.srn',\n",
       " 'wiki.sr',\n",
       " 'wiki.ss',\n",
       " 'wiki.st',\n",
       " 'wiki.stq',\n",
       " 'wiki.su',\n",
       " 'wiki.sv',\n",
       " 'wiki.sw',\n",
       " 'wiki.szl',\n",
       " 'wiki.ta',\n",
       " 'wiki.tcy',\n",
       " 'wiki.te',\n",
       " 'wiki.tet',\n",
       " 'wiki.tg',\n",
       " 'wiki.th',\n",
       " 'wiki.ti',\n",
       " 'wiki.tk',\n",
       " 'wiki.tl',\n",
       " 'wiki.tn',\n",
       " 'wiki.to',\n",
       " 'wiki.tpi',\n",
       " 'wiki.tr',\n",
       " 'wiki.ts',\n",
       " 'wiki.tt',\n",
       " 'wiki.tum',\n",
       " 'wiki.tw',\n",
       " 'wiki.ty',\n",
       " 'wiki.tyv',\n",
       " 'wiki.udm',\n",
       " 'wiki.ug',\n",
       " 'wiki.uk',\n",
       " 'wiki.ur',\n",
       " 'wiki.uz',\n",
       " 'wiki.ve',\n",
       " 'wiki.vep',\n",
       " 'wiki.vi',\n",
       " 'wiki.vls',\n",
       " 'wiki.vo',\n",
       " 'wiki.wa',\n",
       " 'wiki.war',\n",
       " 'wiki.wo',\n",
       " 'wiki.wuu',\n",
       " 'wiki.xal',\n",
       " 'wiki.xh',\n",
       " 'wiki.xmf',\n",
       " 'wiki.yi',\n",
       " 'wiki.yo',\n",
       " 'wiki.za',\n",
       " 'wiki.zea',\n",
       " 'wiki.zh_classical',\n",
       " 'wiki.zh_min_nan',\n",
       " 'wiki.zh',\n",
       " 'wiki.zh_yue',\n",
       " 'wiki.zu',\n",
       " 'cc.af.300',\n",
       " 'cc.als.300',\n",
       " 'cc.am.300',\n",
       " 'cc.an.300',\n",
       " 'cc.ar.300',\n",
       " 'cc.arz.300',\n",
       " 'cc.as.300',\n",
       " 'cc.ast.300',\n",
       " 'cc.az.300',\n",
       " 'cc.azb.300',\n",
       " 'cc.ba.300',\n",
       " 'cc.bar.300',\n",
       " 'cc.bcl.300',\n",
       " 'cc.be.300',\n",
       " 'cc.bg.300',\n",
       " 'cc.bh.300',\n",
       " 'cc.bn.300',\n",
       " 'cc.bo.300',\n",
       " 'cc.bpy.300',\n",
       " 'cc.br.300',\n",
       " 'cc.bs.300',\n",
       " 'cc.ca.300',\n",
       " 'cc.ce.300',\n",
       " 'cc.ceb.300',\n",
       " 'cc.ckb.300',\n",
       " 'cc.co.300',\n",
       " 'cc.cs.300',\n",
       " 'cc.cv.300',\n",
       " 'cc.cy.300',\n",
       " 'cc.da.300',\n",
       " 'cc.de.300',\n",
       " 'cc.diq.300',\n",
       " 'cc.dv.300',\n",
       " 'cc.el.300',\n",
       " 'cc.eml.300',\n",
       " 'cc.en.300',\n",
       " 'cc.eo.300',\n",
       " 'cc.es.300',\n",
       " 'cc.et.300',\n",
       " 'cc.eu.300',\n",
       " 'cc.fa.300',\n",
       " 'cc.fi.300',\n",
       " 'cc.fr.300',\n",
       " 'cc.frr.300',\n",
       " 'cc.fy.300',\n",
       " 'cc.ga.300',\n",
       " 'cc.gd.300',\n",
       " 'cc.gl.300',\n",
       " 'cc.gom.300',\n",
       " 'cc.gu.300',\n",
       " 'cc.gv.300',\n",
       " 'cc.he.300',\n",
       " 'cc.hi.300',\n",
       " 'cc.hif.300',\n",
       " 'cc.hr.300',\n",
       " 'cc.hsb.300',\n",
       " 'cc.ht.300',\n",
       " 'cc.hu.300',\n",
       " 'cc.hy.300',\n",
       " 'cc.ia.300',\n",
       " 'cc.id.300',\n",
       " 'cc.ilo.300',\n",
       " 'cc.io.300',\n",
       " 'cc.is.300',\n",
       " 'cc.it.300',\n",
       " 'cc.ja.300',\n",
       " 'cc.jv.300',\n",
       " 'cc.ka.300',\n",
       " 'cc.kk.300',\n",
       " 'cc.km.300',\n",
       " 'cc.kn.300',\n",
       " 'cc.ko.300',\n",
       " 'cc.ku.300',\n",
       " 'cc.ky.300',\n",
       " 'cc.la.300',\n",
       " 'cc.lb.300',\n",
       " 'cc.li.300',\n",
       " 'cc.lmo.300',\n",
       " 'cc.lt.300',\n",
       " 'cc.lv.300',\n",
       " 'cc.mai.300',\n",
       " 'cc.mg.300',\n",
       " 'cc.mhr.300',\n",
       " 'cc.min.300',\n",
       " 'cc.mk.300',\n",
       " 'cc.ml.300',\n",
       " 'cc.mn.300',\n",
       " 'cc.mr.300',\n",
       " 'cc.mrj.300',\n",
       " 'cc.ms.300',\n",
       " 'cc.mt.300',\n",
       " 'cc.mwl.300',\n",
       " 'cc.my.300',\n",
       " 'cc.myv.300',\n",
       " 'cc.mzn.300',\n",
       " 'cc.nah.300',\n",
       " 'cc.nap.300',\n",
       " 'cc.nds.300',\n",
       " 'cc.ne.300',\n",
       " 'cc.new.300',\n",
       " 'cc.nl.300',\n",
       " 'cc.nn.300',\n",
       " 'cc.no.300',\n",
       " 'cc.nso.300',\n",
       " 'cc.oc.300',\n",
       " 'cc.or.300',\n",
       " 'cc.os.300',\n",
       " 'cc.pa.300',\n",
       " 'cc.pam.300',\n",
       " 'cc.pfl.300',\n",
       " 'cc.pl.300',\n",
       " 'cc.pms.300',\n",
       " 'cc.pnb.300',\n",
       " 'cc.ps.300',\n",
       " 'cc.pt.300',\n",
       " 'cc.qu.300',\n",
       " 'cc.rm.300',\n",
       " 'cc.ro.300',\n",
       " 'cc.ru.300',\n",
       " 'cc.sa.300',\n",
       " 'cc.sah.300',\n",
       " 'cc.sc.300',\n",
       " 'cc.scn.300',\n",
       " 'cc.sco.300',\n",
       " 'cc.sd.300',\n",
       " 'cc.sh.300',\n",
       " 'cc.si.300',\n",
       " 'cc.sk.300',\n",
       " 'cc.sl.300',\n",
       " 'cc.so.300',\n",
       " 'cc.sq.300',\n",
       " 'cc.sr.300',\n",
       " 'cc.su.300',\n",
       " 'cc.sv.300',\n",
       " 'cc.sw.300',\n",
       " 'cc.ta.300',\n",
       " 'cc.te.300',\n",
       " 'cc.tg.300',\n",
       " 'cc.th.300',\n",
       " 'cc.tk.300',\n",
       " 'cc.tl.300',\n",
       " 'cc.tr.300',\n",
       " 'cc.tt.300',\n",
       " 'cc.ug.300',\n",
       " 'cc.uk.300',\n",
       " 'cc.ur.300',\n",
       " 'cc.uz.300',\n",
       " 'cc.vec.300',\n",
       " 'cc.vi.300',\n",
       " 'cc.vls.300',\n",
       " 'cc.vo.300',\n",
       " 'cc.wa.300',\n",
       " 'cc.war.300',\n",
       " 'cc.xmf.300',\n",
       " 'cc.yi.300',\n",
       " 'cc.yo.300',\n",
       " 'cc.zea.300',\n",
       " 'cc.zh.300']"
      ]
     },
     "execution_count": 32,
     "metadata": {},
     "output_type": "execute_result"
    }
   ],
   "source": [
    "nlp.embedding.list_sources('fasttext')"
   ]
  },
  {
   "cell_type": "markdown",
   "metadata": {},
   "source": [
    "- Load API"
   ]
  },
  {
   "cell_type": "code",
   "execution_count": 33,
   "metadata": {},
   "outputs": [],
   "source": [
    "fasttext_crawl_300d_2M_subword = nlp.embedding.create('fasttext', source='crawl-300d-2M-subword')"
   ]
  },
  {
   "cell_type": "code",
   "execution_count": 34,
   "metadata": {},
   "outputs": [],
   "source": [
    "vocab = nlp.Vocab(nlp.data.Counter(fasttext_crawl_300d_2M_subword.idx_to_token))"
   ]
  },
  {
   "cell_type": "code",
   "execution_count": 35,
   "metadata": {},
   "outputs": [
    {
     "data": {
      "text/plain": [
       "Vocab(size=2000004, unk=\"<unk>\", reserved=\"['<pad>', '<bos>', '<eos>']\")"
      ]
     },
     "execution_count": 35,
     "metadata": {},
     "output_type": "execute_result"
    }
   ],
   "source": [
    "vocab"
   ]
  },
  {
   "cell_type": "code",
   "execution_count": 36,
   "metadata": {},
   "outputs": [],
   "source": [
    "vocab.set_embedding(fasttext_crawl_300d_2M_subword)"
   ]
  },
  {
   "cell_type": "code",
   "execution_count": 37,
   "metadata": {},
   "outputs": [
    {
     "data": {
      "text/plain": [
       "2000004"
      ]
     },
     "execution_count": 37,
     "metadata": {},
     "output_type": "execute_result"
    }
   ],
   "source": [
    "len(vocab.idx_to_token)"
   ]
  },
  {
   "cell_type": "markdown",
   "metadata": {},
   "source": [
    "- Get embedding vector"
   ]
  },
  {
   "cell_type": "markdown",
   "metadata": {},
   "source": [
    "If word is not existed in lookup table, return value is zero vector.\n",
    "\n",
    "If word is existed in lookup table, return value is embedding vector."
   ]
  },
  {
   "cell_type": "code",
   "execution_count": 38,
   "metadata": {},
   "outputs": [
    {
     "data": {
      "text/plain": [
       "\n",
       "[-3.200e-03  5.740e-02  4.300e-02 -1.610e-02  1.230e-02 -5.110e-02\n",
       "  5.930e-02 -5.010e-02  5.400e-02 -8.810e-02 -9.330e-02  5.870e-02\n",
       " -2.120e-02 -9.200e-03 -4.110e-02 -3.530e-02  9.590e-02  1.060e-02\n",
       "  2.970e-02  7.290e-02 -1.360e-02  6.320e-02  3.930e-02 -2.670e-02\n",
       "  4.080e-02 -4.640e-02  2.900e-03  6.720e-02 -7.330e-02  4.160e-02\n",
       " -4.240e-02 -6.750e-02  9.470e-02  1.910e-02 -5.200e-03  3.500e-03\n",
       "  3.540e-02 -1.130e-02  1.150e-02 -6.860e-02  2.400e-03 -1.569e-01\n",
       " -2.160e-02  5.000e-02 -1.176e-01  6.180e-02  3.690e-02  6.910e-02\n",
       " -6.440e-02 -2.640e-02 -1.960e-02 -5.510e-02  1.031e-01 -4.300e-02\n",
       " -1.710e-02 -6.900e-02 -4.720e-02  5.950e-02 -1.713e-01  5.840e-02\n",
       " -2.820e-02 -8.500e-02 -4.920e-02 -1.114e-01 -5.470e-02 -1.250e-02\n",
       "  1.590e-02  3.180e-02 -4.570e-02 -1.084e-01 -1.560e-02 -4.850e-02\n",
       "  1.590e-02  7.100e-03  3.000e-02 -6.150e-02  3.400e-02 -3.190e-02\n",
       "  6.070e-02 -7.260e-02 -1.010e-02 -4.040e-02  2.710e-02  2.580e-02\n",
       " -2.330e-02 -2.020e-02  8.080e-02 -4.000e-03 -1.290e-02 -6.220e-02\n",
       " -5.610e-02  1.920e-02  1.060e-02 -9.300e-02 -1.930e-02  7.270e-02\n",
       "  7.130e-02  1.569e-01  7.600e-03  1.670e-02  8.100e-02 -5.050e-02\n",
       " -1.301e-01  2.000e-02 -9.130e-02 -2.050e-02  3.370e-02  8.170e-02\n",
       " -1.500e-03 -2.020e-02  5.000e-04 -2.800e-02 -1.690e-02  5.140e-02\n",
       "  6.000e-04  5.810e-02 -1.290e-02 -1.800e-02  2.760e-02 -1.323e-01\n",
       "  3.580e-02 -3.490e-02 -3.460e-02  8.130e-02 -6.800e-03  5.800e-03\n",
       " -6.870e-02  1.670e-02  3.230e-02 -8.080e-02 -4.460e-02  1.850e-02\n",
       " -2.270e-02  4.570e-02  5.350e-02  3.330e-02 -1.120e-02  7.800e-03\n",
       " -6.090e-02  1.870e-02 -2.380e-02  2.160e-02 -7.500e-03 -1.039e-01\n",
       " -8.420e-02 -5.400e-02 -3.800e-02 -8.830e-02 -3.680e-02  6.180e-02\n",
       "  4.100e-03  1.020e-02  5.840e-02  1.220e-02 -1.092e-01  4.200e-03\n",
       "  4.570e-02 -4.620e-02 -1.400e-02  5.040e-02 -1.440e-02 -1.100e-02\n",
       "  2.540e-02 -3.210e-02  3.840e-02  7.700e-02 -4.890e-02 -9.800e-03\n",
       " -2.400e-03 -3.060e-02 -8.800e-02 -1.000e-04 -1.042e-01 -1.400e-03\n",
       " -2.920e-02 -8.020e-02  4.000e-04  6.450e-02  8.800e-02  9.300e-03\n",
       "  3.570e-02 -5.330e-02 -9.260e-02 -2.870e-02 -1.760e-02 -2.530e-02\n",
       " -5.690e-02  1.020e-02  4.390e-02  3.420e-02 -2.750e-02  1.034e-01\n",
       " -1.130e-02  2.260e-02 -5.460e-02 -1.320e-02  5.700e-03 -7.800e-03\n",
       " -1.550e-02 -9.400e-03 -6.290e-02  2.500e-02  3.890e-02  1.060e-02\n",
       "  8.990e-02 -1.650e-02  3.120e-02 -3.400e-02 -2.820e-02 -7.800e-03\n",
       " -1.604e-01 -4.820e-02  7.600e-03  4.400e-02 -5.050e-02  9.170e-02\n",
       "  1.280e-02 -1.300e-02 -1.061e-01  6.970e-02 -7.260e-02  3.340e-02\n",
       "  7.200e-03  3.900e-03  5.060e-02 -4.120e-02 -2.170e-02 -1.144e-01\n",
       " -1.360e-02  7.300e-03  1.115e-01  1.270e-02 -1.710e-02 -7.900e-03\n",
       " -7.000e-03 -1.770e-02 -2.710e-02 -1.420e-02  1.540e-02  1.510e-02\n",
       " -2.360e-02  6.440e-02  5.230e-02 -1.595e-01  8.500e-03  2.800e-02\n",
       "  6.190e-02 -6.040e-02  3.400e-02 -4.100e-03  5.420e-02  4.860e-02\n",
       " -1.370e-02  2.050e-02 -8.590e-02 -3.600e-03 -1.300e-02  4.730e-02\n",
       "  5.490e-02 -4.510e-02 -4.150e-02 -3.970e-02 -3.990e-02 -5.600e-03\n",
       " -2.180e-02  2.960e-02  2.520e-02  1.290e-02  2.920e-02  8.370e-02\n",
       "  1.232e-01 -2.690e-02 -2.580e-02 -1.700e-02  9.010e-02 -1.106e-01\n",
       "  6.100e-03 -4.570e-02 -2.370e-02  2.860e-02 -5.980e-02 -7.700e-03\n",
       " -3.370e-02  6.360e-02 -5.050e-02  9.000e-04  3.720e-02 -4.120e-02\n",
       " -3.130e-02  1.960e-02  2.160e-02 -8.590e-02 -5.440e-02 -1.589e-01\n",
       "  2.090e-02  4.180e-02  3.740e-02 -2.190e-02 -3.430e-02  1.780e-02]\n",
       "<NDArray 300 @cpu(0)>"
      ]
     },
     "execution_count": 38,
     "metadata": {},
     "output_type": "execute_result"
    }
   ],
   "source": [
    "vocab.embedding[bad_words[0]]"
   ]
  },
  {
   "cell_type": "code",
   "execution_count": 39,
   "metadata": {},
   "outputs": [
    {
     "data": {
      "text/plain": [
       "\n",
       "[0. 0. 0. 0. 0. 0. 0. 0. 0. 0. 0. 0. 0. 0. 0. 0. 0. 0. 0. 0. 0. 0. 0. 0.\n",
       " 0. 0. 0. 0. 0. 0. 0. 0. 0. 0. 0. 0. 0. 0. 0. 0. 0. 0. 0. 0. 0. 0. 0. 0.\n",
       " 0. 0. 0. 0. 0. 0. 0. 0. 0. 0. 0. 0. 0. 0. 0. 0. 0. 0. 0. 0. 0. 0. 0. 0.\n",
       " 0. 0. 0. 0. 0. 0. 0. 0. 0. 0. 0. 0. 0. 0. 0. 0. 0. 0. 0. 0. 0. 0. 0. 0.\n",
       " 0. 0. 0. 0. 0. 0. 0. 0. 0. 0. 0. 0. 0. 0. 0. 0. 0. 0. 0. 0. 0. 0. 0. 0.\n",
       " 0. 0. 0. 0. 0. 0. 0. 0. 0. 0. 0. 0. 0. 0. 0. 0. 0. 0. 0. 0. 0. 0. 0. 0.\n",
       " 0. 0. 0. 0. 0. 0. 0. 0. 0. 0. 0. 0. 0. 0. 0. 0. 0. 0. 0. 0. 0. 0. 0. 0.\n",
       " 0. 0. 0. 0. 0. 0. 0. 0. 0. 0. 0. 0. 0. 0. 0. 0. 0. 0. 0. 0. 0. 0. 0. 0.\n",
       " 0. 0. 0. 0. 0. 0. 0. 0. 0. 0. 0. 0. 0. 0. 0. 0. 0. 0. 0. 0. 0. 0. 0. 0.\n",
       " 0. 0. 0. 0. 0. 0. 0. 0. 0. 0. 0. 0. 0. 0. 0. 0. 0. 0. 0. 0. 0. 0. 0. 0.\n",
       " 0. 0. 0. 0. 0. 0. 0. 0. 0. 0. 0. 0. 0. 0. 0. 0. 0. 0. 0. 0. 0. 0. 0. 0.\n",
       " 0. 0. 0. 0. 0. 0. 0. 0. 0. 0. 0. 0. 0. 0. 0. 0. 0. 0. 0. 0. 0. 0. 0. 0.\n",
       " 0. 0. 0. 0. 0. 0. 0. 0. 0. 0. 0. 0.]\n",
       "<NDArray 300 @cpu(0)>"
      ]
     },
     "execution_count": 39,
     "metadata": {},
     "output_type": "execute_result"
    }
   ],
   "source": [
    "vocab.embedding[bad_words[1]]"
   ]
  },
  {
   "cell_type": "code",
   "execution_count": null,
   "metadata": {},
   "outputs": [],
   "source": []
  }
 ],
 "metadata": {
  "kernelspec": {
   "display_name": "Python 3",
   "language": "python",
   "name": "python3"
  },
  "language_info": {
   "codemirror_mode": {
    "name": "ipython",
    "version": 3
   },
   "file_extension": ".py",
   "mimetype": "text/x-python",
   "name": "python",
   "nbconvert_exporter": "python",
   "pygments_lexer": "ipython3",
   "version": "3.7.4"
  }
 },
 "nbformat": 4,
 "nbformat_minor": 2
}
