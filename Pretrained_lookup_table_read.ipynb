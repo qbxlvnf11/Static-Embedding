{
 "cells": [
  {
   "cell_type": "markdown",
   "metadata": {},
   "source": [
    "# Pretrained static embedding model (read pretrained lookup table file)"
   ]
  },
  {
   "cell_type": "markdown",
   "metadata": {},
   "source": [
    "# - Bad-words dataset processing"
   ]
  },
  {
   "cell_type": "code",
   "execution_count": 1,
   "metadata": {},
   "outputs": [],
   "source": [
    "with open('./data/bad-words.csv') as file:\n",
    "    bad_words = file.read().splitlines()"
   ]
  },
  {
   "cell_type": "code",
   "execution_count": 27,
   "metadata": {},
   "outputs": [
    {
     "data": {
      "text/plain": [
       "['jigaboo',\n",
       " 'mound of venus',\n",
       " 'asslover',\n",
       " 's&m',\n",
       " 'queaf',\n",
       " 'whitetrash',\n",
       " 'meatrack',\n",
       " 'ra8s',\n",
       " 'pimp',\n",
       " 'urine',\n",
       " 'whit',\n",
       " 'randy',\n",
       " 'herpes',\n",
       " 'niglet',\n",
       " 'narcotic',\n",
       " 'pudboy',\n",
       " 'rimming',\n",
       " 'boner',\n",
       " 'pornography',\n",
       " 'poop chute',\n",
       " 'israel',\n",
       " 'dong',\n",
       " 'slanteye',\n",
       " 'muffdiving',\n",
       " 'jiggabo',\n",
       " 'assassination',\n",
       " 'peepshpw',\n",
       " 'popimp',\n",
       " 'girl on',\n",
       " 'testicles']"
      ]
     },
     "execution_count": 27,
     "metadata": {},
     "output_type": "execute_result"
    }
   ],
   "source": [
    "bad_words[:30]"
   ]
  },
  {
   "cell_type": "code",
   "execution_count": 3,
   "metadata": {},
   "outputs": [
    {
     "data": {
      "text/plain": [
       "1617"
      ]
     },
     "execution_count": 3,
     "metadata": {},
     "output_type": "execute_result"
    }
   ],
   "source": [
    "len(bad_words)"
   ]
  },
  {
   "cell_type": "markdown",
   "metadata": {},
   "source": [
    "- Get word index"
   ]
  },
  {
   "cell_type": "code",
   "execution_count": 4,
   "metadata": {},
   "outputs": [
    {
     "name": "stderr",
     "output_type": "stream",
     "text": [
      "Using TensorFlow backend.\n"
     ]
    }
   ],
   "source": [
    "from keras.preprocessing.text import Tokenizer\n",
    "\n",
    "tokenizer = Tokenizer(char_level=False, filters='!\"#$%&()*+./:;<=>?@[\\]^_`{|}~', lower=True)"
   ]
  },
  {
   "cell_type": "code",
   "execution_count": 5,
   "metadata": {},
   "outputs": [],
   "source": [
    "tokenizer.fit_on_texts(bad_words)"
   ]
  },
  {
   "cell_type": "code",
   "execution_count": 6,
   "metadata": {},
   "outputs": [],
   "source": [
    "word_index = tokenizer.word_index"
   ]
  },
  {
   "cell_type": "code",
   "execution_count": 7,
   "metadata": {},
   "outputs": [
    {
     "data": {
      "text/plain": [
       "1671"
      ]
     },
     "execution_count": 7,
     "metadata": {},
     "output_type": "execute_result"
    }
   ],
   "source": [
    "len(word_index)"
   ]
  },
  {
   "cell_type": "markdown",
   "metadata": {},
   "source": [
    "# - Load pretrained Glove lookup table"
   ]
  },
  {
   "cell_type": "markdown",
   "metadata": {},
   "source": [
    "- download link: https://nlp.stanford.edu/projects/glove/"
   ]
  },
  {
   "cell_type": "code",
   "execution_count": 8,
   "metadata": {},
   "outputs": [],
   "source": [
    "GLOVE_DIR = './Pretrained_Glove'"
   ]
  },
  {
   "cell_type": "code",
   "execution_count": 9,
   "metadata": {},
   "outputs": [],
   "source": [
    "total_file_path_list = []"
   ]
  },
  {
   "cell_type": "code",
   "execution_count": 10,
   "metadata": {},
   "outputs": [],
   "source": [
    "import glob\n",
    "\n",
    "folder_path_list = glob.glob(GLOVE_DIR + '/*.*')\n",
    "for folder_path in folder_path_list:\n",
    "    file_path_list = glob.glob(folder_path + '/*.*')\n",
    "    for file_path in file_path_list:\n",
    "        total_file_path_list.append(file_path)"
   ]
  },
  {
   "cell_type": "code",
   "execution_count": 11,
   "metadata": {},
   "outputs": [
    {
     "data": {
      "text/plain": [
       "['./Pretrained_Glove/glove.42B.300d/glove.42B.300d.txt',\n",
       " './Pretrained_Glove/glove.twitter.27B/glove.twitter.27B.50d.txt',\n",
       " './Pretrained_Glove/glove.twitter.27B/glove.twitter.27B.200d.txt',\n",
       " './Pretrained_Glove/glove.twitter.27B/glove.twitter.27B.25d.txt',\n",
       " './Pretrained_Glove/glove.twitter.27B/glove.twitter.27B.100d.txt',\n",
       " './Pretrained_Glove/glove.840B.300d/glove.840B.300d.txt',\n",
       " './Pretrained_Glove/glove.6B/glove.6B.50d.txt',\n",
       " './Pretrained_Glove/glove.6B/glove.6B.100d.txt',\n",
       " './Pretrained_Glove/glove.6B/glove.6B.300d.txt',\n",
       " './Pretrained_Glove/glove.6B/glove.6B.200d.txt']"
      ]
     },
     "execution_count": 11,
     "metadata": {},
     "output_type": "execute_result"
    }
   ],
   "source": [
    "total_file_path_list"
   ]
  },
  {
   "cell_type": "code",
   "execution_count": 12,
   "metadata": {},
   "outputs": [],
   "source": [
    "embeddings_index_list = []"
   ]
  },
  {
   "cell_type": "code",
   "execution_count": 13,
   "metadata": {
    "scrolled": true
   },
   "outputs": [
    {
     "name": "stdout",
     "output_type": "stream",
     "text": [
      "Found 1917494 word vectors.\n",
      "Found 1193514 word vectors.\n",
      "Found 1193514 word vectors.\n",
      "Found 1193514 word vectors.\n",
      "Found 1193514 word vectors.\n",
      "error .\n",
      "error at\n",
      "error .\n",
      "error to\n",
      "error .\n",
      "error .\n",
      "error email\n",
      "error or\n",
      "error contact\n",
      "error Email\n",
      "error on\n",
      "error At\n",
      "error by\n",
      "error in\n",
      "error emailing\n",
      "error Contact\n",
      "error at\n",
      "error •\n",
      "error at\n",
      "error is\n",
      "Found 2195884 word vectors.\n",
      "Found 400000 word vectors.\n",
      "Found 400000 word vectors.\n",
      "Found 400000 word vectors.\n",
      "Found 400000 word vectors.\n"
     ]
    }
   ],
   "source": [
    "import os\n",
    "import numpy as np\n",
    "\n",
    "for file_path in total_file_path_list:\n",
    "\n",
    "    f = open(file_path)\n",
    "    \n",
    "    embeddings_index = {}\n",
    "    for line in f:\n",
    "        try:\n",
    "            values = line.split()\n",
    "            word = values[0]\n",
    "            coefs = np.asarray(values[1:], dtype='float32')\n",
    "            embeddings_index[word] = coefs\n",
    "        except:\n",
    "            print('error', word)\n",
    "    \n",
    "    f.close()\n",
    "\n",
    "    print('Found %s word vectors.' % len(embeddings_index))\n",
    "    \n",
    "    embeddings_index_list.append(embeddings_index)"
   ]
  },
  {
   "cell_type": "markdown",
   "metadata": {},
   "source": [
    "# - Application of pretrained Glove lookup table"
   ]
  },
  {
   "cell_type": "markdown",
   "metadata": {},
   "source": [
    "If word is not existed in lookup table, return value is not existed.\n",
    "\n",
    "If word is existed in lookup table, return value is embedding vector."
   ]
  },
  {
   "cell_type": "code",
   "execution_count": 14,
   "metadata": {},
   "outputs": [],
   "source": [
    "embeddings_index = embeddings_index_list[0]"
   ]
  },
  {
   "cell_type": "code",
   "execution_count": 15,
   "metadata": {},
   "outputs": [],
   "source": [
    "embedding_dim = 300"
   ]
  },
  {
   "cell_type": "code",
   "execution_count": 20,
   "metadata": {},
   "outputs": [
    {
     "data": {
      "text/plain": [
       "'asslover'"
      ]
     },
     "execution_count": 20,
     "metadata": {},
     "output_type": "execute_result"
    }
   ],
   "source": [
    "bad_words[2]"
   ]
  },
  {
   "cell_type": "code",
   "execution_count": 22,
   "metadata": {},
   "outputs": [],
   "source": [
    "embeddings_index.get(bad_words[2])"
   ]
  },
  {
   "cell_type": "code",
   "execution_count": 24,
   "metadata": {},
   "outputs": [
    {
     "data": {
      "text/plain": [
       "'s&m'"
      ]
     },
     "execution_count": 24,
     "metadata": {},
     "output_type": "execute_result"
    }
   ],
   "source": [
    "bad_words[3]"
   ]
  },
  {
   "cell_type": "code",
   "execution_count": 25,
   "metadata": {},
   "outputs": [
    {
     "data": {
      "text/plain": [
       "array([-0.10241  ,  0.20927  , -0.56708  ,  0.27728  ,  0.12295  ,\n",
       "       -0.28882  , -0.38159  , -0.2237   ,  0.22316  , -0.5454   ,\n",
       "        0.34714  ,  0.41125  , -0.40963  ,  0.39602  , -0.062277 ,\n",
       "        0.16983  ,  0.629    , -0.22426  ,  0.14657  , -0.10919  ,\n",
       "       -0.51512  , -0.54869  ,  0.29832  , -0.60355  , -0.0086221,\n",
       "       -0.50604  , -0.31836  , -0.26333  ,  0.56835  ,  0.33135  ,\n",
       "       -0.58636  ,  0.48654  , -0.38565  , -0.39767  , -0.24659  ,\n",
       "       -0.060765 ,  0.098843 , -0.2734   ,  0.030179 , -0.046363 ,\n",
       "       -0.11112  , -0.1462   ,  0.15499  , -0.06799  ,  0.31349  ,\n",
       "        0.18717  ,  0.023141 , -0.33064  ,  0.10253  ,  0.89807  ,\n",
       "        0.062852 , -0.67533  , -0.51627  ,  0.31504  , -0.26777  ,\n",
       "       -0.15669  , -0.59563  , -0.14386  ,  0.10033  , -0.2279   ,\n",
       "       -0.16408  , -0.55577  , -0.16405  , -0.6311   ,  0.32953  ,\n",
       "       -0.14371  , -0.0090519,  0.34712  , -0.045403 ,  0.18121  ,\n",
       "       -0.23895  ,  0.42882  ,  0.49326  , -0.29247  ,  0.27027  ,\n",
       "       -0.30958  ,  0.11736  , -0.10303  ,  0.10701  , -0.5246   ,\n",
       "        0.14457  ,  0.02267  , -0.050852 ,  0.25735  ,  0.57647  ,\n",
       "       -0.17258  ,  0.037068 ,  0.13968  , -0.24306  , -0.70547  ,\n",
       "        0.024548 ,  0.37127  , -0.081909 ,  0.10886  , -0.29313  ,\n",
       "        0.0060969, -0.71825  ,  0.2591   ,  0.014487 , -0.084068 ,\n",
       "        0.10837  ,  0.030902 , -0.1243   , -0.78972  , -0.22133  ,\n",
       "        0.40751  , -0.19075  ,  0.3122   ,  0.63693  ,  0.73246  ,\n",
       "        0.23071  , -0.28965  , -0.18155  , -0.65253  ,  0.074809 ,\n",
       "        0.49108  ,  0.19243  , -0.031496 , -0.10869  , -0.15374  ,\n",
       "        0.1213   ,  0.23353  , -0.65227  , -0.011056 ,  0.72805  ,\n",
       "        0.2109   ,  0.33735  ,  0.37754  ,  0.16352  , -0.24147  ,\n",
       "       -0.25287  , -0.032237 ,  0.46659  , -0.16557  ,  0.35686  ,\n",
       "        0.095587 , -0.41301  , -0.29765  , -0.22013  ,  0.19881  ,\n",
       "        0.25144  , -0.11332  , -0.75728  ,  0.39486  , -0.34537  ,\n",
       "       -0.25442  , -0.20754  ,  0.085559 ,  0.13075  ,  0.3882   ,\n",
       "       -0.54634  , -0.53725  ,  0.11029  , -0.41525  ,  0.015382 ,\n",
       "       -0.31387  , -0.16997  ,  0.12114  , -0.021935 ,  0.3669   ,\n",
       "        0.19207  ,  0.061785 ,  0.051311 , -0.37404  ,  0.62787  ,\n",
       "        0.32107  ,  0.16355  , -0.22167  , -0.018856 ,  0.074186 ,\n",
       "        0.047517 ,  0.099424 , -0.2121   ,  0.025424 , -0.094111 ,\n",
       "       -0.58958  , -0.090952 ,  0.28866  , -0.26352  , -0.10595  ,\n",
       "        0.48275  , -0.19306  , -0.255    , -0.18158  ,  0.20275  ,\n",
       "       -0.43731  ,  0.11788  , -0.23975  , -0.18211  , -0.59164  ,\n",
       "       -0.055226 , -0.2512   , -0.036773 , -0.68204  , -0.16261  ,\n",
       "        0.3683   ,  0.025025 ,  0.58923  ,  0.067192 , -0.89927  ,\n",
       "       -0.073347 ,  0.1432   , -0.30118  ,  0.75207  ,  0.61502  ,\n",
       "       -0.17541  , -0.58868  , -0.87812  ,  0.32204  , -0.51737  ,\n",
       "        0.28596  , -0.72625  , -0.4314   , -0.0011882,  0.40308  ,\n",
       "       -0.19719  ,  0.28399  , -0.37459  , -0.73587  ,  0.42585  ,\n",
       "        0.0067006, -0.33429  ,  0.54867  ,  0.60487  ,  0.16741  ,\n",
       "       -0.63123  ,  0.20552  , -0.42454  , -0.18602  , -0.35849  ,\n",
       "       -0.24948  ,  0.21537  ,  0.13439  , -0.10002  , -0.45503  ,\n",
       "        0.62036  ,  0.083444 ,  0.0019365, -0.81668  ,  0.068435 ,\n",
       "        0.12855  , -0.49194  ,  0.36176  ,  0.65933  , -0.38226  ,\n",
       "       -0.54704  ,  0.068047 ,  0.21239  ,  0.2449   ,  0.11163  ,\n",
       "       -0.53969  ,  0.18393  ,  0.40476  , -0.13575  , -0.019291 ,\n",
       "       -0.088063 ,  0.097391 , -0.32155  , -0.25759  , -0.00437  ,\n",
       "        0.08167  ,  0.26288  ,  0.1108   , -0.4724   , -0.082904 ,\n",
       "        0.12668  , -0.038854 , -0.37816  ,  0.029602 , -0.37927  ,\n",
       "        0.18664  ,  0.18267  , -0.30925  , -0.0053077, -0.01957  ,\n",
       "       -0.76443  , -0.30182  , -0.35622  ,  0.23816  ,  0.26796  ,\n",
       "        0.46531  , -0.42461  , -0.054618 ,  0.74713  ,  0.36836  ,\n",
       "       -0.7103   ,  0.48518  , -0.073854 , -0.57281  , -0.43678  ,\n",
       "       -0.27916  , -0.10786  , -0.020444 , -0.22649  , -0.042233 ,\n",
       "        0.0049952, -0.69759  ,  0.50907  ,  0.37179  , -0.269    ],\n",
       "      dtype=float32)"
      ]
     },
     "execution_count": 25,
     "metadata": {},
     "output_type": "execute_result"
    }
   ],
   "source": [
    "embeddings_index.get(bad_words[3])"
   ]
  },
  {
   "cell_type": "code",
   "execution_count": 26,
   "metadata": {},
   "outputs": [
    {
     "name": "stdout",
     "output_type": "stream",
     "text": [
      "asslover\n",
      "queaf\n",
      "meatrack\n",
      "ra8s\n",
      "pudboy\n",
      "slanteye\n",
      "jiggabo\n",
      "peepshpw\n",
      "popimp\n",
      "peni5\n",
      "barface\n",
      "sixsixsix\n",
      "muffindiver\n",
      "fingerfucker\n",
      "nlggor\n",
      "mothafucked\n",
      "spaghettinigger\n",
      "mickeyfinn\n",
      "jizzim\n",
      "lickme\n",
      "tonguetramp\n",
      "buttmuncher\n",
      "cuntfucker\n",
      "shitdick\n",
      "niggur\n",
      "dicklicker\n",
      "cunillingus\n",
      "dicklick\n",
      "kunilingus\n",
      "tonguethrust\n",
      "cockknob\n",
      "children's\n",
      "footfucker\n",
      "cuntlicking\n",
      "sexy-slim\n",
      "jijjiboo\n",
      "fuckfriend\n",
      "buttfuckers\n",
      "nutfucker\n",
      "lesbayn\n",
      "shortfuck\n",
      "cherrypopper\n",
      "butchbabes\n",
      "butt-fuckers\n",
      "spigotty\n",
      "clogwog\n",
      "bollick\n",
      "nimphomania\n",
      "asspirate\n",
      "pimpjuice\n",
      "nookey\n",
      "breastman\n",
      "beatyourmeat\n",
      "lovejuice\n",
      "eatballs\n",
      "nlgger\n",
      "dixiedyke\n",
      "junglebunny\n",
      "shitforbrains\n",
      "screwyou\n",
      "nastyslut\n",
      "lubejob\n",
      "sexfarm\n",
      "lezbe\n",
      "butt-bang\n",
      "asskiss\n",
      "cunntt\n",
      "slideitin\n",
      "cuntfuck\n",
      "sexhound\n",
      "titlover\n",
      "cockcowboy\n",
      "mufflikcer\n",
      "brea5t\n",
      "cumbubble\n",
      "sextogo\n",
      "jimfish\n",
      "flydye\n",
      "niggard's\n",
      "devilworshipper\n",
      "fastfuck\n",
      "kondum\n",
      "titfucker\n",
      "shitola\n",
      "pimpsimp\n",
      "zigabo\n",
      "slutwhore\n",
      "acrotomophilia\n",
      "dumbbitch\n",
      "fuckmonkey\n",
      "pubiclice\n",
      "cyberslimer\n",
      "gypp\n",
      "mothafuckings\n",
      "thicklips\n",
      "flydie\n",
      "butchdyke\n",
      "skumbag\n",
      "dickforbrains\n",
      "kumbullbe\n",
      "niggerhole\n",
      "assranger\n",
      "asspuppies\n",
      "jiggerboo\n",
      "cuntlick\n",
      "goddamnmuthafucker\n",
      "whiskeydick\n",
      "nofuckingway\n",
      "mastrabator\n",
      "cockqueen\n",
      "snownigger\n",
      "holestuffer\n",
      "nipplering\n",
      "palesimian\n",
      "cumqueen\n",
      "suckmytit\n",
      "vorarephilia\n",
      "spermhearder\n",
      "lovebone\n",
      "coprolagnia\n",
      "purinapricness\n",
      "iblowu\n",
      "easyslut\n",
      "cocksucked\n",
      "hosejob\n",
      "cumjockey\n",
      "lovegoo\n",
      "sexwhore\n",
      "phuked\n",
      "shithapens\n",
      "alligatorbait\n",
      "suckmyass\n",
      "fannyfucker\n",
      "gaymuthafuckinwhore\n",
      "asswhore\n",
      "mothafuck\n",
      "titlicker\n",
      "buttstain\n",
      "spermacide\n",
      "skankybitch\n",
      "puddboy\n",
      "mockie\n",
      "kumbubble\n",
      "ontherag\n",
      "daterape\n",
      "phukked\n",
      "lezbefriends\n",
      "pohm\n",
      "kigger\n",
      "nastywhore\n",
      "upthebutt\n",
      "fuckingbitch\n",
      "japcrap\n",
      "analannie\n",
      "breastjob\n",
      "reestie\n",
      "suckme\n",
      "titbitnipply\n",
      "skankwhore\n",
      "deapthroat\n",
      "buttpirate\n",
      "freakfuck\n",
      "crotchjockey\n",
      "dripdick\n",
      "fuckina\n",
      "phungky\n",
      "butt-fucker\n",
      "manpaste\n",
      "whiskydick\n",
      "niggardliness's\n",
      "fourtwenty\n",
      "fuckher\n",
      "backdoorman\n",
      "clamdiver\n",
      "pussylicker\n",
      "nigre\n",
      "phuking\n",
      "dyefly\n",
      "suckdick\n",
      "bigbastard\n",
      "mosshead\n",
      "pornking\n",
      "mockey\n",
      "prickhead\n",
      "pussyeater\n",
      "niggarding\n",
      "smackthemonkey\n",
      "badfuck\n",
      "fistfucked\n",
      "mattressprincess\n",
      "cocksucer\n",
      "dickbrain\n",
      "wetb\n",
      "freefuck\n",
      "snowback\n",
      "mggor\n",
      "skankbitch\n",
      "fuckinright\n",
      "timbernigger\n",
      "picaninny\n",
      "whorefucker\n",
      "grostulation\n",
      "dixiedike\n",
      "shitfucker\n",
      "sheeney\n",
      "cameljockey\n",
      "sonofbitch\n",
      "feltcher\n",
      "fingerfuckers\n",
      "lovepistol\n",
      "motherlovebone\n",
      "pornflick\n",
      "thirdleg\n",
      "crotchrot\n",
      "skankfuck\n",
      "facefucker\n",
      "assmuncher\n",
      "stupidfuck\n",
      "poorwhitetrash\n",
      "getiton\n",
      "bulldike\n",
      "skinflute\n",
      "asspacker\n",
      "glazeddonut\n",
      "fuckmehard\n",
      "gyppie\n",
      "shitfull\n",
      "sexymoma\n",
      "cacker\n",
      "porchmonkey\n",
      "assbagger\n",
      "negro's\n",
      "cunteyed\n",
      "sadom\n",
      "pimpjuic\n",
      "goatcx\n",
      "spermbag\n",
      "beatoff\n",
      "urophilia\n",
      "niggarded\n",
      "rearentry\n",
      "loverocket\n",
      "asshore\n",
      "freakyfucker\n",
      "birdlock\n",
      "nastyho\n",
      "goddamnes\n",
      "spankthemonkey\n",
      "niggor\n",
      "motherfucked\n",
      "slopehead\n",
      "williewanker\n",
      "hitlerist\n",
      "pi55\n",
      "intheass\n",
      "spaghettibender\n",
      "slimebucket\n",
      "goodpoop\n",
      "rentafuck\n",
      "shitoutofluck\n",
      "pindick\n",
      "cockrider\n",
      "balllicker\n",
      "fatfucker\n",
      "assjockey\n",
      "fistfucker\n",
      "nigglings\n",
      "whash\n",
      "fuckinnuts\n",
      "butchdike\n",
      "datnigga\n",
      "luckycammeltoe\n",
      "slutwear\n",
      "shawtypimp\n",
      "tunneloflove\n",
      "homobangers\n",
      "barfface\n",
      "pearlnecklace\n",
      "stupidfucker\n",
      "loadedgun\n",
      "pussylover\n",
      "gotohell\n",
      "fuckknob\n",
      "inthebuff\n",
      "nawashi\n",
      "mastabate\n",
      "kunnilingus\n",
      "snatchpatch\n",
      "pussypounder\n",
      "pu55i\n",
      "footlicker\n",
      "funfuck\n",
      "boang\n",
      "spermherder\n",
      "kanake\n",
      "carpetmuncher\n",
      "nastybitch\n",
      "pornprincess\n",
      "gonorrehea\n",
      "meatbeatter\n",
      "crotchmonkey\n",
      "shithappens\n",
      "whitenigger\n",
      "buttbang\n",
      "niggaracci\n",
      "pussyfucker\n",
      "fckcum\n",
      "assblaster\n",
      "fuckfreak\n",
      "cuntsucker\n",
      "mastabater\n",
      "asscowboy\n",
      "chickslick\n",
      "niggards\n",
      "kaffre\n",
      "women's\n",
      "boonga\n",
      "cra5h\n",
      "athletesfoot\n",
      "cocknob\n",
      "hottotrot\n",
      "sexhouse\n",
      "nittit\n",
      "suckmydick\n",
      "jizim\n",
      "eatpussy\n",
      "givehead\n",
      "phukking\n",
      "shiteater\n",
      "skankywhore\n",
      "pu55y\n",
      "motherfuckings\n",
      "tongethruster\n",
      "nigger's\n",
      "breastlover\n",
      "twobitwhore\n",
      "israel's\n",
      "pocketpool\n",
      "gyppy\n",
      "snigger's\n",
      "lovemuscle\n",
      "pisspig\n",
      "uptheass\n",
      "jizjuice\n",
      "mgger\n",
      "virginbreaker\n",
      "samckdaddy\n",
      "lovegun\n",
      "dragqween\n",
      "titfuckin\n",
      "camslut\n",
      "bountybar\n",
      "assklown\n",
      "cocklicker\n"
     ]
    }
   ],
   "source": [
    "embedding_matrix = np.zeros((len(word_index) + 1, embedding_dim))\n",
    "for word, i in word_index.items():\n",
    "    embedding_vector = embeddings_index.get(word)\n",
    "    if embedding_vector is not None:\n",
    "        # words not found in embedding index will be all-zeros.\n",
    "        embedding_matrix[i] = embedding_vector\n",
    "    else:\n",
    "        print(word)"
   ]
  },
  {
   "cell_type": "markdown",
   "metadata": {},
   "source": [
    "- Keras embedding layer with pretrained lookup table"
   ]
  },
  {
   "cell_type": "code",
   "execution_count": 17,
   "metadata": {},
   "outputs": [],
   "source": [
    "max_len = 100"
   ]
  },
  {
   "cell_type": "code",
   "execution_count": 18,
   "metadata": {},
   "outputs": [],
   "source": [
    "from tensorflow.keras.layers import Embedding\n",
    "\n",
    "pretrained_embedding_layer = Embedding(len(word_index) + 1,\n",
    "                            embedding_dim,\n",
    "                            weights=[embedding_matrix],\n",
    "                            input_length=max_len,\n",
    "                            trainable=False)"
   ]
  }
 ],
 "metadata": {
  "kernelspec": {
   "display_name": "Python 3",
   "language": "python",
   "name": "python3"
  },
  "language_info": {
   "codemirror_mode": {
    "name": "ipython",
    "version": 3
   },
   "file_extension": ".py",
   "mimetype": "text/x-python",
   "name": "python",
   "nbconvert_exporter": "python",
   "pygments_lexer": "ipython3",
   "version": "3.7.4"
  }
 },
 "nbformat": 4,
 "nbformat_minor": 2
}
